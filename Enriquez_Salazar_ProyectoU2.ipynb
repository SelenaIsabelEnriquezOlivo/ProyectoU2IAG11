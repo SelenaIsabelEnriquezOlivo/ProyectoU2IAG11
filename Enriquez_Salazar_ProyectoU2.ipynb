{
 "cells": [
  {
   "cell_type": "markdown",
   "id": "f05f519a",
   "metadata": {},
   "source": [
    "# PREDICCIÓN DEL COMPORTAMIENTO AL CONDUCIR "
   ]
  },
  {
   "cell_type": "code",
   "execution_count": 253,
   "id": "8408c6f6",
   "metadata": {},
   "outputs": [],
   "source": [
    "#importación de librerias necesarias\n",
    "import numpy as np\n",
    "#importar libreria pandas para el dataset\n",
    "import pandas as pd\n",
    "#librería para la división de datos en entrenamiento y prueba\n",
    "from sklearn.model_selection import train_test_split\n",
    "#librería para el escalamiento de los datos \n",
    "from sklearn.preprocessing import StandardScaler\n",
    "#librería para las métricas\n",
    "from sklearn.metrics import accuracy_score\n",
    "#librería para los gráficos\n",
    "import matplotlib.pyplot as plt\n",
    "#importar librería para gráficos\n",
    "import seaborn as sns\n",
    "#También\n",
    "from sklearn import preprocessing\n",
    "# Import label encoder\n"
   ]
  },
  {
   "cell_type": "code",
   "execution_count": 254,
   "id": "454364be",
   "metadata": {},
   "outputs": [
    {
     "data": {
      "text/html": [
       "<div>\n",
       "<style scoped>\n",
       "    .dataframe tbody tr th:only-of-type {\n",
       "        vertical-align: middle;\n",
       "    }\n",
       "\n",
       "    .dataframe tbody tr th {\n",
       "        vertical-align: top;\n",
       "    }\n",
       "\n",
       "    .dataframe thead th {\n",
       "        text-align: right;\n",
       "    }\n",
       "</style>\n",
       "<table border=\"1\" class=\"dataframe\">\n",
       "  <thead>\n",
       "    <tr style=\"text-align: right;\">\n",
       "      <th></th>\n",
       "      <th>AccX</th>\n",
       "      <th>AccY</th>\n",
       "      <th>AccZ</th>\n",
       "      <th>GyroX</th>\n",
       "      <th>GyroY</th>\n",
       "      <th>GyroZ</th>\n",
       "      <th>Class</th>\n",
       "      <th>Timestamp</th>\n",
       "    </tr>\n",
       "  </thead>\n",
       "  <tbody>\n",
       "    <tr>\n",
       "      <th>0</th>\n",
       "      <td>0.758194</td>\n",
       "      <td>-0.217791</td>\n",
       "      <td>0.457263</td>\n",
       "      <td>0.000000</td>\n",
       "      <td>0.000000</td>\n",
       "      <td>0.000000</td>\n",
       "      <td>AGGRESSIVE</td>\n",
       "      <td>818922</td>\n",
       "    </tr>\n",
       "    <tr>\n",
       "      <th>1</th>\n",
       "      <td>0.667560</td>\n",
       "      <td>-0.038610</td>\n",
       "      <td>0.231416</td>\n",
       "      <td>-0.054367</td>\n",
       "      <td>-0.007712</td>\n",
       "      <td>0.225257</td>\n",
       "      <td>AGGRESSIVE</td>\n",
       "      <td>818923</td>\n",
       "    </tr>\n",
       "    <tr>\n",
       "      <th>2</th>\n",
       "      <td>2.724449</td>\n",
       "      <td>-7.584121</td>\n",
       "      <td>2.390926</td>\n",
       "      <td>0.023824</td>\n",
       "      <td>0.013668</td>\n",
       "      <td>-0.038026</td>\n",
       "      <td>AGGRESSIVE</td>\n",
       "      <td>818923</td>\n",
       "    </tr>\n",
       "    <tr>\n",
       "      <th>3</th>\n",
       "      <td>2.330950</td>\n",
       "      <td>-7.621754</td>\n",
       "      <td>2.529024</td>\n",
       "      <td>0.056810</td>\n",
       "      <td>-0.180587</td>\n",
       "      <td>-0.052076</td>\n",
       "      <td>AGGRESSIVE</td>\n",
       "      <td>818924</td>\n",
       "    </tr>\n",
       "    <tr>\n",
       "      <th>4</th>\n",
       "      <td>2.847215</td>\n",
       "      <td>-6.755621</td>\n",
       "      <td>2.224640</td>\n",
       "      <td>-0.031765</td>\n",
       "      <td>-0.035201</td>\n",
       "      <td>0.035277</td>\n",
       "      <td>AGGRESSIVE</td>\n",
       "      <td>818924</td>\n",
       "    </tr>\n",
       "  </tbody>\n",
       "</table>\n",
       "</div>"
      ],
      "text/plain": [
       "       AccX      AccY      AccZ     GyroX     GyroY     GyroZ       Class  \\\n",
       "0  0.758194 -0.217791  0.457263  0.000000  0.000000  0.000000  AGGRESSIVE   \n",
       "1  0.667560 -0.038610  0.231416 -0.054367 -0.007712  0.225257  AGGRESSIVE   \n",
       "2  2.724449 -7.584121  2.390926  0.023824  0.013668 -0.038026  AGGRESSIVE   \n",
       "3  2.330950 -7.621754  2.529024  0.056810 -0.180587 -0.052076  AGGRESSIVE   \n",
       "4  2.847215 -6.755621  2.224640 -0.031765 -0.035201  0.035277  AGGRESSIVE   \n",
       "\n",
       "   Timestamp  \n",
       "0     818922  \n",
       "1     818923  \n",
       "2     818923  \n",
       "3     818924  \n",
       "4     818924  "
      ]
     },
     "execution_count": 254,
     "metadata": {},
     "output_type": "execute_result"
    }
   ],
   "source": [
    "js = pd.read_csv(\"test_motion_data.csv\")\n",
    "js.head()"
   ]
  },
  {
   "cell_type": "code",
   "execution_count": 255,
   "id": "71b977b0",
   "metadata": {},
   "outputs": [
    {
     "data": {
      "text/plain": [
       "array([0, 1, 2])"
      ]
     },
     "execution_count": 255,
     "metadata": {},
     "output_type": "execute_result"
    }
   ],
   "source": [
    "\n",
    "  \n",
    "# label_encoder object knows how to understand word labels.\n",
    "label_encoder = preprocessing.LabelEncoder()\n",
    "  \n",
    "# Encode labels in column 'species'.\n",
    "js['Class']= label_encoder.fit_transform(js['Class'])\n",
    "  \n",
    "js['Class'].unique()"
   ]
  },
  {
   "cell_type": "markdown",
   "id": "88d795f8",
   "metadata": {},
   "source": [
    "## SE REALIZA LA DESCRIPCIÓN DEL DATASET UTILIZADO \n",
    "El Dataset contiene datos los cuales seran usados para un aprendizaje profundo y el aprendizaje automático  con el proposito de predecir el comportamiento de conducción, según lo informado por la AAA Foundation for Traffic Safety , 106,727 accidentes fatales, el 55.7 por ciento del total, durante un período reciente de cuatro años involucraron a conductores que cometieron una o más acciones de conducción agresivas. Por tanto, aplicando los metodos de Naive bayes y hidden markov model se prentende responder lo siguiente ¿cómo predecir comportamientos de conducción peligrosos de forma rápida y precisa? <br>\n",
    "Link del dataset usado: https://www.kaggle.com/datasets/outofskills/driving-behavior"
   ]
  },
  {
   "cell_type": "markdown",
   "id": "6deadffc",
   "metadata": {},
   "source": [
    "## PROBLEMA A RESOLVER\n"
   ]
  },
  {
   "cell_type": "markdown",
   "id": "8c18bd1f",
   "metadata": {},
   "source": [
    "# CARACTERIZACIÓN DEL DATASET\n",
    "#Instancias del data set"
   ]
  },
  {
   "cell_type": "code",
   "execution_count": 256,
   "id": "9c0e9ceb",
   "metadata": {},
   "outputs": [
    {
     "data": {
      "text/plain": [
       "AccX         3683\n",
       "AccY         3683\n",
       "AccZ         3683\n",
       "GyroX        3683\n",
       "GyroY        3683\n",
       "GyroZ        3683\n",
       "Class        3683\n",
       "Timestamp    3683\n",
       "dtype: int64"
      ]
     },
     "execution_count": 256,
     "metadata": {},
     "output_type": "execute_result"
    }
   ],
   "source": [
    "#contar registros del dataset\n",
    "js.count()"
   ]
  },
  {
   "cell_type": "code",
   "execution_count": 257,
   "id": "9f68c8ee",
   "metadata": {},
   "outputs": [
    {
     "name": "stdout",
     "output_type": "stream",
     "text": [
      "<class 'pandas.core.frame.DataFrame'>\n",
      "RangeIndex: 3683 entries, 0 to 3682\n",
      "Data columns (total 7 columns):\n",
      " #   Column     Non-Null Count  Dtype  \n",
      "---  ------     --------------  -----  \n",
      " 0   AccX       3683 non-null   float64\n",
      " 1   AccY       3683 non-null   float64\n",
      " 2   AccZ       3683 non-null   float64\n",
      " 3   GyroX      3683 non-null   float64\n",
      " 4   GyroY      3683 non-null   float64\n",
      " 5   GyroZ      3683 non-null   float64\n",
      " 6   Timestamp  3683 non-null   int64  \n",
      "dtypes: float64(6), int64(1)\n",
      "memory usage: 201.5 KB\n"
     ]
    }
   ],
   "source": [
    "#muestra la información (incluido el tipo de dato) de los 20 atributos de entrada.\n",
    "js.drop('Class', axis=1).info()"
   ]
  },
  {
   "cell_type": "markdown",
   "id": "2f0e579b",
   "metadata": {},
   "source": [
    "# Se realiza la limpieza de datos"
   ]
  },
  {
   "cell_type": "code",
   "execution_count": 258,
   "id": "e147bb35",
   "metadata": {},
   "outputs": [],
   "source": [
    "#Transformación de las caracteristicas \n",
    "# Variable objetivo y variables de entrada\n",
    "y = js[['Class']]\n",
    "X = js[['AccX','AccY','AccZ','GyroX','GyroY','GyroZ','Timestamp']]"
   ]
  },
  {
   "cell_type": "markdown",
   "id": "cf55a349",
   "metadata": {},
   "source": [
    "# Se realiza la busqueda de valores nulos"
   ]
  },
  {
   "cell_type": "code",
   "execution_count": 259,
   "id": "b4a6e929",
   "metadata": {},
   "outputs": [
    {
     "data": {
      "text/plain": [
       "AccX         0\n",
       "AccY         0\n",
       "AccZ         0\n",
       "GyroX        0\n",
       "GyroY        0\n",
       "GyroZ        0\n",
       "Timestamp    0\n",
       "dtype: int64"
      ]
     },
     "execution_count": 259,
     "metadata": {},
     "output_type": "execute_result"
    }
   ],
   "source": [
    "#Comprobación de valores nulos en datos de entrada\n",
    "X.isnull().sum()"
   ]
  },
  {
   "cell_type": "markdown",
   "id": "9cab4c31",
   "metadata": {},
   "source": [
    "No existen valores nulos se continua comprobando si existen valores nulos en la varible objetivo"
   ]
  },
  {
   "cell_type": "code",
   "execution_count": 260,
   "id": "f3dc215e",
   "metadata": {},
   "outputs": [
    {
     "data": {
      "text/plain": [
       "Class    0\n",
       "dtype: int64"
      ]
     },
     "execution_count": 260,
     "metadata": {},
     "output_type": "execute_result"
    }
   ],
   "source": [
    "#Comprobación de valores nulos en la variable objetivo\n",
    "y.isnull().sum()"
   ]
  },
  {
   "cell_type": "markdown",
   "id": "74f8d419",
   "metadata": {},
   "source": [
    "La variable objetivo tampoco tiene valores nulos."
   ]
  },
  {
   "cell_type": "markdown",
   "id": "0d0982c8",
   "metadata": {},
   "source": [
    "# SE REALIZA LA BUSQUEDA DE VALORES DUPLICADOS"
   ]
  },
  {
   "cell_type": "code",
   "execution_count": 261,
   "id": "f628bf37",
   "metadata": {},
   "outputs": [
    {
     "data": {
      "text/plain": [
       "Class    0\n",
       "dtype: int64"
      ]
     },
     "execution_count": 261,
     "metadata": {},
     "output_type": "execute_result"
    }
   ],
   "source": [
    "#Comprobación de valores nulos en la variable objetivo\n",
    "y.isnull().sum()"
   ]
  },
  {
   "cell_type": "markdown",
   "id": "255169d5",
   "metadata": {},
   "source": [
    "# SELECCION DE CARACTERÍSTICAS"
   ]
  },
  {
   "cell_type": "code",
   "execution_count": 262,
   "id": "2044284f",
   "metadata": {},
   "outputs": [],
   "source": [
    "#Se comprueba en cada valor de entrada la correlacion con la variable de salida\n",
    "for a in js.columns :\n",
    "    try :\n",
    "        print(f'Corr {a}: {js[a].corr(df[\"Class\"])}')\n",
    "    except :\n",
    "        pass"
   ]
  },
  {
   "cell_type": "markdown",
   "id": "96b003e2",
   "metadata": {},
   "source": [
    "# SE REMUEVEN LOS VALORES"
   ]
  },
  {
   "cell_type": "code",
   "execution_count": 263,
   "id": "7a66d631",
   "metadata": {},
   "outputs": [],
   "source": [
    "#Genero un set con las instancias de mis atributos o caracteristicas seleciconas\n",
    "variables_seleccionadas = ['GyroX','AccX','GyroY']\n",
    "#Remuevo Valores Atipicos en funcion de aquellos valores fuera de los cuartiles \n",
    "for a in variables_seleccionadas: \n",
    "    q1 = js[a].quantile(0.25)\n",
    "    q3 = js[a].quantile(0.75)\n",
    "    iqr = q3-q1\n",
    "    upper = q3 + 1.5*iqr\n",
    "    lower = q1 - 1.5*iqr\n",
    "    js = js[(js[a] > 0) & (js[a] < upper)]"
   ]
  },
  {
   "cell_type": "code",
   "execution_count": 264,
   "id": "7f7804e3",
   "metadata": {},
   "outputs": [
    {
     "data": {
      "text/plain": [
       "AccX         float64\n",
       "AccY         float64\n",
       "AccZ         float64\n",
       "GyroX        float64\n",
       "GyroY        float64\n",
       "GyroZ        float64\n",
       "Timestamp      int64\n",
       "dtype: object"
      ]
     },
     "execution_count": 264,
     "metadata": {},
     "output_type": "execute_result"
    }
   ],
   "source": [
    "#imprime las características que tiene mayor correlación\n",
    "X.dtypes"
   ]
  },
  {
   "cell_type": "code",
   "execution_count": 265,
   "id": "93c1434c",
   "metadata": {},
   "outputs": [
    {
     "data": {
      "text/plain": [
       "array([0, 1, 2])"
      ]
     },
     "execution_count": 265,
     "metadata": {},
     "output_type": "execute_result"
    }
   ],
   "source": [
    "#Se procede a imprimir los valores unicos de la variable de salida\n",
    "np.unique(y)"
   ]
  },
  {
   "cell_type": "markdown",
   "id": "59f09821",
   "metadata": {},
   "source": [
    "# SE REALIZA LA DIVICION DEL SET EN DATOS DE ENTRANAMIENTO"
   ]
  },
  {
   "cell_type": "code",
   "execution_count": 266,
   "id": "cd80b064",
   "metadata": {},
   "outputs": [],
   "source": [
    "#importo libreria para la division del set de datos en entrenamiento y prueba\n",
    "from sklearn.model_selection import train_test_split"
   ]
  },
  {
   "cell_type": "code",
   "execution_count": 267,
   "id": "8dd49b45",
   "metadata": {},
   "outputs": [],
   "source": [
    "#Código que realice la división en entrenamiento y test, de acuerdo con la estretgia de evaluación planeada. \n",
    "X_train, X_test, y_train, y_test = train_test_split(X, y, test_size=0.3, random_state=1)"
   ]
  },
  {
   "cell_type": "code",
   "execution_count": 268,
   "id": "b9e79799",
   "metadata": {},
   "outputs": [
    {
     "data": {
      "text/plain": [
       "((2578, 7), (1105, 7))"
      ]
     },
     "execution_count": 268,
     "metadata": {},
     "output_type": "execute_result"
    }
   ],
   "source": [
    "#Determino el tamaño del set de entrenamiento\n",
    "X_train.shape, X_test.shape"
   ]
  },
  {
   "cell_type": "code",
   "execution_count": 269,
   "id": "2bc6c53d",
   "metadata": {},
   "outputs": [
    {
     "data": {
      "text/plain": [
       "((2578, 1), (1105, 1))"
      ]
     },
     "execution_count": 269,
     "metadata": {},
     "output_type": "execute_result"
    }
   ],
   "source": [
    "#Determino el tamaño del set de prueba\n",
    "y_train.shape, y_test.shape"
   ]
  },
  {
   "cell_type": "markdown",
   "id": "0b7aa5d1",
   "metadata": {},
   "source": [
    "# SE IMPLEMENTA EL MODELO DE NAIVE-BAYES"
   ]
  },
  {
   "cell_type": "code",
   "execution_count": 270,
   "id": "cc2bbe6f",
   "metadata": {},
   "outputs": [
    {
     "name": "stderr",
     "output_type": "stream",
     "text": [
      "C:\\Users\\chave\\anaconda3\\lib\\site-packages\\sklearn\\utils\\validation.py:993: DataConversionWarning: A column-vector y was passed when a 1d array was expected. Please change the shape of y to (n_samples, ), for example using ravel().\n",
      "  y = column_or_1d(y, warn=True)\n"
     ]
    }
   ],
   "source": [
    "#Importo libreria encargado del modelo de Naive Bayes\n",
    "from sklearn.naive_bayes import GaussianNB\n",
    "#Defino el Modelo\n",
    "gnb = GaussianNB()\n",
    "#Entreno el modelo y aplico en el set de prueba\n",
    "y_pred = gnb.fit(X_train, y_train).predict(X_test)"
   ]
  },
  {
   "cell_type": "markdown",
   "id": "0c8495e5",
   "metadata": {},
   "source": [
    "# SE REALIZA LA EVALUACIÓN"
   ]
  },
  {
   "cell_type": "code",
   "execution_count": 271,
   "id": "4b6f8c52",
   "metadata": {},
   "outputs": [
    {
     "name": "stdout",
     "output_type": "stream",
     "text": [
      "0.7285067873303167\n"
     ]
    }
   ],
   "source": [
    "#Importo libreria para obtener el valor del accuracy o la matriz de confusion ademas de libreria para graficar\n",
    "import matplotlib.pyplot as plt\n",
    "from sklearn.metrics import accuracy_score\n",
    "from sklearn.metrics import confusion_matrix, plot_confusion_matrix\n",
    "\n",
    "\n",
    "#Obtengo el accuracy del modelo de Naive Bayes\n",
    "acc_score_naive = accuracy_score(y_test, y_pred)\n",
    "\n",
    "\n",
    "print(acc_score_naive)"
   ]
  },
  {
   "cell_type": "code",
   "execution_count": 272,
   "id": "6fdbff5a",
   "metadata": {},
   "outputs": [
    {
     "name": "stdout",
     "output_type": "stream",
     "text": [
      "[[265   0   0]\n",
      " [109 162 191]\n",
      " [  0   0 378]]\n"
     ]
    }
   ],
   "source": [
    "#Obtengo la matriz de confusion para este modelo\n",
    "se = confusion_matrix(y_test, y_pred)\n",
    "print(se)"
   ]
  },
  {
   "cell_type": "code",
   "execution_count": 273,
   "id": "5ddb1918",
   "metadata": {},
   "outputs": [
    {
     "name": "stdout",
     "output_type": "stream",
     "text": [
      "              precision    recall  f1-score   support\n",
      "\n",
      "           0       0.71      1.00      0.83       265\n",
      "           1       1.00      0.35      0.52       462\n",
      "           2       0.66      1.00      0.80       378\n",
      "\n",
      "    accuracy                           0.73      1105\n",
      "   macro avg       0.79      0.78      0.72      1105\n",
      "weighted avg       0.82      0.73      0.69      1105\n",
      "\n"
     ]
    }
   ],
   "source": [
    "#Importo la librria para generar un reporte con las principales metricas del modelo\n",
    "from sklearn.metrics import classification_report\n",
    "#Imprimo las metricas como el accuracy, precision, recall\n",
    "print(classification_report(y_test, y_pred))"
   ]
  },
  {
   "cell_type": "code",
   "execution_count": 274,
   "id": "17a0900e",
   "metadata": {},
   "outputs": [],
   "source": [
    "#Importo libreria para obtener metricas para obtener precision recall f1\n",
    "from sklearn.metrics import precision_recall_fscore_support as score\n",
    "precision_naive,recall_naive,fscore_naive,support_naive=score(y_test,y_pred,average='macro')"
   ]
  },
  {
   "cell_type": "markdown",
   "id": "632f4292",
   "metadata": {},
   "source": [
    "# COMPARATIVA DE LOS DOS MODELOS NAIVE Y MARKOV"
   ]
  },
  {
   "cell_type": "code",
   "execution_count": 300,
   "id": "e815cb4c",
   "metadata": {},
   "outputs": [
    {
     "name": "stdout",
     "output_type": "stream",
     "text": [
      "0.7285067873303167 0.7909598413578564 0.7835497835497836 0.71565406452076\n",
      "0.2559241706161137 0.1591869536950083 0.24165020372885543 0.1754424802083004\n"
     ]
    }
   ],
   "source": [
    "#Se presenta los valores de las principales metricas para los 3 algoritmos\n",
    "print(acc_score_naive,precision_naive,recall_naive,fscore_naive)\n",
    "print(acc_score_markov,precision_markov,recall_markov,fscore_markov)"
   ]
  },
  {
   "cell_type": "code",
   "execution_count": 303,
   "id": "adf2402d",
   "metadata": {},
   "outputs": [
    {
     "data": {
      "image/png": "[encoded data removed]",
      "text/plain": [
       "<Figure size 432x288 with 1 Axes>"
      ]
     },
     "metadata": {
      "needs_background": "light"
     },
     "output_type": "display_data"
    }
   ],
   "source": [
    "#Libreria para presentación de datos de comparación de resultados\n",
    "import matplotlib.pyplot as plt\n",
    "eje_x = ['Naive-Bayes', 'Hidden Markov']\n",
    " \n",
    "## Declaramos valores para el eje y\n",
    "eje_y = [acc_score_naive,acc_score_markov]\n",
    " \n",
    "## Creamos Gráfica\n",
    "plt.bar(eje_x, eje_y)\n",
    " \n",
    "## Legenda en el eje y\n",
    "plt.ylabel('ACCURACY')\n",
    " \n",
    "## Legenda en el eje x\n",
    "plt.xlabel('MODELOS')\n",
    " \n",
    "## Título de Gráfica\n",
    "plt.title('CLASIFICACIÓN CON MODELOS')\n",
    " \n",
    "## Mostramos Gráfica\n",
    "plt.show()"
   ]
  },
  {
   "cell_type": "markdown",
   "id": "9d6db037",
   "metadata": {},
   "source": [
    "# SE APLICA EL MODELO DE FUZZY PROBABILISTICO"
   ]
  },
  {
   "cell_type": "code",
   "execution_count": 297,
   "id": "69156dd6",
   "metadata": {},
   "outputs": [
    {
     "ename": "ModuleNotFoundError",
     "evalue": "No module named 'fcmeans'",
     "output_type": "error",
     "traceback": [
      "\u001b[1;31m---------------------------------------------------------------------------\u001b[0m",
      "\u001b[1;31mModuleNotFoundError\u001b[0m                       Traceback (most recent call last)",
      "Input \u001b[1;32mIn [297]\u001b[0m, in \u001b[0;36m<cell line: 2>\u001b[1;34m()\u001b[0m\n\u001b[0;32m      1\u001b[0m \u001b[38;5;66;03m#Importo Libreria que permite usar el modelo mencionado anteriormente\u001b[39;00m\n\u001b[1;32m----> 2\u001b[0m \u001b[38;5;28;01mfrom\u001b[39;00m \u001b[38;5;21;01mfcmeans\u001b[39;00m \u001b[38;5;28;01mimport\u001b[39;00m FCM\n",
      "\u001b[1;31mModuleNotFoundError\u001b[0m: No module named 'fcmeans'"
     ]
    }
   ],
   "source": [
    "#Importo Libreria que permite usar el modelo mencionado anteriormente\n",
    "from fcmeans import FCM"
   ]
  },
  {
   "cell_type": "code",
   "execution_count": 277,
   "id": "d97d003b",
   "metadata": {},
   "outputs": [],
   "source": [
    "#Transformación de las caracteristicas \n",
    "# Variable objetivo y variables de entrada\n",
    "y = js[['Class']]\n",
    "#Separando las caracteristicas \n",
    "X = js[['AccX','AccY','AccZ','GyroX','GyroY','GyroZ','Timestamp']]"
   ]
  },
  {
   "cell_type": "code",
   "execution_count": 278,
   "id": "467d55eb",
   "metadata": {},
   "outputs": [],
   "source": [
    "### Estandarización de la data ###\n",
    "# importar metodo de scalado standar\n",
    "from sklearn.preprocessing import StandardScaler\n",
    "# Formar objeto de scala para entradas\n",
    "VariablesEntradaScaler=StandardScaler()"
   ]
  },
  {
   "cell_type": "code",
   "execution_count": 279,
   "id": "9e0c68ea",
   "metadata": {},
   "outputs": [],
   "source": [
    "#Almacenamiento del objeto de ajuste para referencia posterior\n",
    "#Datos de entrada\n",
    "VariablesEntradaFit=VariablesEntradaScaler.fit(X)"
   ]
  },
  {
   "cell_type": "code",
   "execution_count": 280,
   "id": "91454779",
   "metadata": {},
   "outputs": [],
   "source": [
    "#Generación de los valores estandarizados de X e y\n",
    "#Datos e entrada\n",
    "X=VariablesEntradaFit.transform(X)"
   ]
  },
  {
   "cell_type": "code",
   "execution_count": 281,
   "id": "88bd6f6b",
   "metadata": {},
   "outputs": [
    {
     "ename": "NameError",
     "evalue": "name 'FCM' is not defined",
     "output_type": "error",
     "traceback": [
      "\u001b[1;31m---------------------------------------------------------------------------\u001b[0m",
      "\u001b[1;31mNameError\u001b[0m                                 Traceback (most recent call last)",
      "Input \u001b[1;32mIn [281]\u001b[0m, in \u001b[0;36m<cell line: 2>\u001b[1;34m()\u001b[0m\n\u001b[0;32m      1\u001b[0m \u001b[38;5;66;03m#Implemento el modelo fuzzy probabilistico\u001b[39;00m\n\u001b[1;32m----> 2\u001b[0m modelo_fuzzy \u001b[38;5;241m=\u001b[39m \u001b[43mFCM\u001b[49m(n_clusters\u001b[38;5;241m=\u001b[39m\u001b[38;5;241m4\u001b[39m,init\u001b[38;5;241m=\u001b[39m\u001b[38;5;241m1.7\u001b[39m,random_state\u001b[38;5;241m=\u001b[39m\u001b[38;5;241m0\u001b[39m, fuzzifier\u001b[38;5;241m=\u001b[39m\u001b[38;5;241m2\u001b[39m) \u001b[38;5;66;03m#Seleccionamos 4 cluster\u001b[39;00m\n\u001b[0;32m      3\u001b[0m modelo_fuzzy\u001b[38;5;241m.\u001b[39mfit(X)\n",
      "\u001b[1;31mNameError\u001b[0m: name 'FCM' is not defined"
     ]
    }
   ],
   "source": [
    "#Implemento el modelo fuzzy probabilistico\n",
    "modelo_fuzzy = FCM(n_clusters=4,init=1.7,random_state=0, fuzzifier=2) #Seleccionamos 4 cluster\n",
    "modelo_fuzzy.fit(X) ## X, numpy array. rows:samples columns:features"
   ]
  },
  {
   "cell_type": "markdown",
   "id": "3239da85",
   "metadata": {},
   "source": [
    "# SE APLICA EL MODELO DE HIDDEN MARKOV MODEL"
   ]
  },
  {
   "cell_type": "code",
   "execution_count": 283,
   "id": "d7067c66",
   "metadata": {},
   "outputs": [
    {
     "data": {
      "text/html": [
       "<div>\n",
       "<style scoped>\n",
       "    .dataframe tbody tr th:only-of-type {\n",
       "        vertical-align: middle;\n",
       "    }\n",
       "\n",
       "    .dataframe tbody tr th {\n",
       "        vertical-align: top;\n",
       "    }\n",
       "\n",
       "    .dataframe thead th {\n",
       "        text-align: right;\n",
       "    }\n",
       "</style>\n",
       "<table border=\"1\" class=\"dataframe\">\n",
       "  <thead>\n",
       "    <tr style=\"text-align: right;\">\n",
       "      <th></th>\n",
       "      <th>AccX</th>\n",
       "      <th>AccY</th>\n",
       "      <th>AccZ</th>\n",
       "      <th>GyroX</th>\n",
       "      <th>GyroY</th>\n",
       "      <th>GyroZ</th>\n",
       "      <th>Class</th>\n",
       "      <th>Timestamp</th>\n",
       "    </tr>\n",
       "  </thead>\n",
       "  <tbody>\n",
       "    <tr>\n",
       "      <th>7</th>\n",
       "      <td>0.043449</td>\n",
       "      <td>0.228911</td>\n",
       "      <td>0.354669</td>\n",
       "      <td>0.070250</td>\n",
       "      <td>0.050320</td>\n",
       "      <td>0.077427</td>\n",
       "      <td>0</td>\n",
       "      <td>818926</td>\n",
       "    </tr>\n",
       "    <tr>\n",
       "      <th>11</th>\n",
       "      <td>0.364388</td>\n",
       "      <td>0.234002</td>\n",
       "      <td>-0.873113</td>\n",
       "      <td>0.090408</td>\n",
       "      <td>0.052763</td>\n",
       "      <td>0.412181</td>\n",
       "      <td>0</td>\n",
       "      <td>818928</td>\n",
       "    </tr>\n",
       "    <tr>\n",
       "      <th>18</th>\n",
       "      <td>0.102754</td>\n",
       "      <td>2.449629</td>\n",
       "      <td>-0.089049</td>\n",
       "      <td>0.019548</td>\n",
       "      <td>0.000229</td>\n",
       "      <td>-0.086285</td>\n",
       "      <td>0</td>\n",
       "      <td>818932</td>\n",
       "    </tr>\n",
       "    <tr>\n",
       "      <th>27</th>\n",
       "      <td>0.182101</td>\n",
       "      <td>-0.162865</td>\n",
       "      <td>-0.165545</td>\n",
       "      <td>0.011606</td>\n",
       "      <td>0.038103</td>\n",
       "      <td>-0.021533</td>\n",
       "      <td>0</td>\n",
       "      <td>818937</td>\n",
       "    </tr>\n",
       "    <tr>\n",
       "      <th>33</th>\n",
       "      <td>0.029505</td>\n",
       "      <td>0.107665</td>\n",
       "      <td>0.494569</td>\n",
       "      <td>0.004887</td>\n",
       "      <td>0.016112</td>\n",
       "      <td>-0.008705</td>\n",
       "      <td>0</td>\n",
       "      <td>818940</td>\n",
       "    </tr>\n",
       "  </tbody>\n",
       "</table>\n",
       "</div>"
      ],
      "text/plain": [
       "        AccX      AccY      AccZ     GyroX     GyroY     GyroZ  Class  \\\n",
       "7   0.043449  0.228911  0.354669  0.070250  0.050320  0.077427      0   \n",
       "11  0.364388  0.234002 -0.873113  0.090408  0.052763  0.412181      0   \n",
       "18  0.102754  2.449629 -0.089049  0.019548  0.000229 -0.086285      0   \n",
       "27  0.182101 -0.162865 -0.165545  0.011606  0.038103 -0.021533      0   \n",
       "33  0.029505  0.107665  0.494569  0.004887  0.016112 -0.008705      0   \n",
       "\n",
       "    Timestamp  \n",
       "7      818926  \n",
       "11     818928  \n",
       "18     818932  \n",
       "27     818937  \n",
       "33     818940  "
      ]
     },
     "execution_count": 283,
     "metadata": {},
     "output_type": "execute_result"
    }
   ],
   "source": [
    "\n",
    "from hmmlearn.hmm import GaussianHMM\n",
    "js.head()"
   ]
  },
  {
   "cell_type": "code",
   "execution_count": 284,
   "id": "9a341339",
   "metadata": {},
   "outputs": [],
   "source": [
    "#Transformación de las caracteristicas \n",
    "# Variable objetivo y variables de entrada\n",
    "y = js[['Class']]\n",
    "X = js[['AccX','AccY','AccZ','GyroX','GyroY','GyroZ','Timestamp']]"
   ]
  },
  {
   "cell_type": "code",
   "execution_count": 285,
   "id": "95d7bfdd",
   "metadata": {},
   "outputs": [
    {
     "data": {
      "text/plain": [
       "AccX         float64\n",
       "AccY         float64\n",
       "AccZ         float64\n",
       "GyroX        float64\n",
       "GyroY        float64\n",
       "GyroZ        float64\n",
       "Timestamp      int64\n",
       "dtype: object"
      ]
     },
     "execution_count": 285,
     "metadata": {},
     "output_type": "execute_result"
    }
   ],
   "source": [
    "#imprime las características que tiene mayor correlación\n",
    "X.dtypes"
   ]
  },
  {
   "cell_type": "code",
   "execution_count": 286,
   "id": "fb08d705",
   "metadata": {},
   "outputs": [],
   "source": [
    "### Estandarización de la data ###\n",
    "# importar metodo de scalado standar\n",
    "from sklearn.preprocessing import StandardScaler\n",
    "# Formar objeto de scala para entradas\n",
    "VariablesEntradaScaler=StandardScaler()"
   ]
  },
  {
   "cell_type": "code",
   "execution_count": 287,
   "id": "66e356ea",
   "metadata": {},
   "outputs": [],
   "source": [
    "#Almacenamiento del objeto de ajuste para referencia posterior\n",
    "#Datos de entrada\n",
    "VariablesEntradaFit=VariablesEntradaScaler.fit(X)\n"
   ]
  },
  {
   "cell_type": "code",
   "execution_count": 288,
   "id": "e5577254",
   "metadata": {},
   "outputs": [],
   "source": [
    "#Generación de los valores estandarizados de X e y\n",
    "#Datos e entrada\n",
    "X=VariablesEntradaFit.transform(X)"
   ]
  },
  {
   "cell_type": "markdown",
   "id": "eb96342a",
   "metadata": {},
   "source": [
    "# MODELO"
   ]
  },
  {
   "cell_type": "code",
   "execution_count": 289,
   "id": "bf36d464",
   "metadata": {},
   "outputs": [
    {
     "data": {
      "text/plain": [
       "array([3, 3, 0, 1, 1, 0, 1, 1, 1, 0, 0, 1, 1, 0, 1, 0, 0, 0, 0, 0, 0, 0,\n",
       "       0, 0, 0, 0, 0, 0, 0, 0, 0, 0, 0, 0, 0, 0, 0, 0, 0, 0, 0, 1, 1, 0,\n",
       "       0, 1, 0, 0, 1, 1, 1, 0, 0, 1, 0, 0, 0, 0, 0, 1, 1, 1, 0, 0, 0, 0,\n",
       "       0, 0, 1, 0, 0, 0, 0, 0, 0, 0, 0, 0, 1, 1, 0, 0, 0, 0, 0, 1, 0, 0,\n",
       "       0, 0, 0, 0, 1, 1, 1, 1, 1, 1, 0, 0, 0, 1, 1, 1, 1, 1, 1, 0, 1, 1,\n",
       "       1, 0, 0, 0, 0, 0, 0, 1, 0, 0, 0, 0, 0, 0, 0, 0, 0, 0, 0, 0, 0, 0,\n",
       "       0, 1, 0, 0, 0, 0, 0, 1, 0, 0, 1, 1, 0, 1, 1, 0, 1, 0, 0, 0, 1, 1,\n",
       "       0, 0, 0, 0, 0, 0, 0, 0, 0, 0, 0, 0, 0, 0, 0, 1, 1, 0, 1, 0, 0, 0,\n",
       "       0, 0, 0, 1, 1, 0, 1, 1, 1, 1, 1, 0, 0, 0, 0, 1, 1, 1, 1, 1, 1, 1,\n",
       "       0, 1, 3, 3, 3, 3, 3, 3, 3, 3, 1, 0, 0, 1, 1, 0, 0, 1, 1, 1, 1, 0,\n",
       "       0, 0, 0, 0, 0, 1, 1, 1, 0, 1, 0, 0, 0, 0, 0, 0, 1, 0, 0, 1, 0, 0,\n",
       "       0, 0, 0, 0, 1, 1, 0, 0, 0, 0, 0, 0, 0, 0, 0, 1, 1, 0, 0, 0, 1, 0,\n",
       "       0, 0, 1, 0, 0, 0, 1, 1, 0, 0, 1, 1, 1, 1, 1, 3, 3, 1, 0, 0, 1, 1,\n",
       "       1, 1, 1, 0, 1, 1, 1, 0, 0, 1, 1, 1, 0, 0, 0, 0, 0, 0, 0, 0, 0, 1,\n",
       "       0, 1, 0, 0, 1, 0, 0, 0, 0, 0, 1, 1, 0, 1, 1, 0, 0, 1, 1, 0, 0, 0,\n",
       "       0, 1, 0, 1, 1, 1, 1, 1, 1, 0, 1, 0, 0, 0, 0, 0, 0, 0, 0, 0, 1, 1,\n",
       "       1, 1, 1, 1, 1, 3, 2, 2, 2, 2, 2, 2, 2, 2, 2, 2, 2, 2, 2, 2, 2, 2,\n",
       "       2, 2, 2, 2, 2, 2, 2, 2, 2, 2, 2, 2, 2, 2, 2, 2, 2, 2, 2, 2, 2, 2,\n",
       "       2, 2, 2, 2, 2, 2, 2, 2, 2, 2, 2, 2, 2, 2, 2, 2, 2, 2, 2, 2, 2, 2,\n",
       "       2, 2, 2, 2], dtype=int64)"
      ]
     },
     "execution_count": 289,
     "metadata": {},
     "output_type": "execute_result"
    }
   ],
   "source": [
    "#Implemento el modelo de Markov\n",
    "model = GaussianHMM(n_components=4, covariance_type=\"diag\", n_iter=2000).fit(X)\n",
    "# Predigo la secuencia optima de estados\n",
    "y_pred_markov = model.predict(X)\n",
    "y_pred_markov"
   ]
  },
  {
   "cell_type": "markdown",
   "id": "71c3adfb",
   "metadata": {},
   "source": [
    "# SE EVALUA EL MODELO"
   ]
  },
  {
   "cell_type": "code",
   "execution_count": 290,
   "id": "b0bf689f",
   "metadata": {},
   "outputs": [
    {
     "name": "stdout",
     "output_type": "stream",
     "text": [
      "0.2559241706161137\n"
     ]
    }
   ],
   "source": [
    "#Implemento el mismo proceso que se mostro en la seccion de Naive Bayes para la evaluacion\n",
    "from sklearn.metrics import accuracy_score\n",
    "#Importo libreria para obtener metricas y matriz de confusion \n",
    "from sklearn.metrics import confusion_matrix, plot_confusion_matrix\n",
    "#Importo libreria para graficos\n",
    "import matplotlib.pyplot as plt\n",
    "#Obtengo el acuraccy del modelo\n",
    "acc_score_markov = accuracy_score(y, y_pred_markov)\n",
    "\n",
    "# impromo el accuracy\n",
    "print(acc_score_markov)"
   ]
  },
  {
   "cell_type": "code",
   "execution_count": 291,
   "id": "cceee3d5",
   "metadata": {},
   "outputs": [
    {
     "name": "stdout",
     "output_type": "stream",
     "text": [
      "[[65 22  0  2]\n",
      " [68 43 64  7]\n",
      " [85 62  0  4]\n",
      " [ 0  0  0  0]]\n"
     ]
    }
   ],
   "source": [
    "#Muestro la matriz de confusion para el modelo markov\n",
    "si = confusion_matrix(y, y_pred_markov)\n",
    "print(si)"
   ]
  },
  {
   "cell_type": "code",
   "execution_count": 292,
   "id": "ac497aa8",
   "metadata": {},
   "outputs": [
    {
     "data": {
      "text/html": [
       "<div>\n",
       "<style scoped>\n",
       "    .dataframe tbody tr th:only-of-type {\n",
       "        vertical-align: middle;\n",
       "    }\n",
       "\n",
       "    .dataframe tbody tr th {\n",
       "        vertical-align: top;\n",
       "    }\n",
       "\n",
       "    .dataframe thead th {\n",
       "        text-align: right;\n",
       "    }\n",
       "</style>\n",
       "<table border=\"1\" class=\"dataframe\">\n",
       "  <thead>\n",
       "    <tr style=\"text-align: right;\">\n",
       "      <th></th>\n",
       "      <th>Class</th>\n",
       "    </tr>\n",
       "  </thead>\n",
       "  <tbody>\n",
       "    <tr>\n",
       "      <th>7</th>\n",
       "      <td>0</td>\n",
       "    </tr>\n",
       "    <tr>\n",
       "      <th>11</th>\n",
       "      <td>0</td>\n",
       "    </tr>\n",
       "    <tr>\n",
       "      <th>18</th>\n",
       "      <td>0</td>\n",
       "    </tr>\n",
       "    <tr>\n",
       "      <th>27</th>\n",
       "      <td>0</td>\n",
       "    </tr>\n",
       "    <tr>\n",
       "      <th>33</th>\n",
       "      <td>0</td>\n",
       "    </tr>\n",
       "    <tr>\n",
       "      <th>...</th>\n",
       "      <td>...</td>\n",
       "    </tr>\n",
       "    <tr>\n",
       "      <th>3633</th>\n",
       "      <td>1</td>\n",
       "    </tr>\n",
       "    <tr>\n",
       "      <th>3659</th>\n",
       "      <td>1</td>\n",
       "    </tr>\n",
       "    <tr>\n",
       "      <th>3664</th>\n",
       "      <td>1</td>\n",
       "    </tr>\n",
       "    <tr>\n",
       "      <th>3666</th>\n",
       "      <td>1</td>\n",
       "    </tr>\n",
       "    <tr>\n",
       "      <th>3668</th>\n",
       "      <td>1</td>\n",
       "    </tr>\n",
       "  </tbody>\n",
       "</table>\n",
       "<p>422 rows × 1 columns</p>\n",
       "</div>"
      ],
      "text/plain": [
       "      Class\n",
       "7         0\n",
       "11        0\n",
       "18        0\n",
       "27        0\n",
       "33        0\n",
       "...     ...\n",
       "3633      1\n",
       "3659      1\n",
       "3664      1\n",
       "3666      1\n",
       "3668      1\n",
       "\n",
       "[422 rows x 1 columns]"
      ]
     },
     "execution_count": 292,
     "metadata": {},
     "output_type": "execute_result"
    }
   ],
   "source": [
    "#Imprimo variable de salida de test.\n",
    "y"
   ]
  },
  {
   "cell_type": "code",
   "execution_count": 293,
   "id": "5df06b12",
   "metadata": {},
   "outputs": [
    {
     "name": "stdout",
     "output_type": "stream",
     "text": [
      "              precision    recall  f1-score   support\n",
      "\n",
      "           0       0.30      0.73      0.42        89\n",
      "           1       0.34      0.24      0.28       182\n",
      "           2       0.00      0.00      0.00       151\n",
      "           3       0.00      0.00      0.00         0\n",
      "\n",
      "    accuracy                           0.26       422\n",
      "   macro avg       0.16      0.24      0.18       422\n",
      "weighted avg       0.21      0.26      0.21       422\n",
      "\n"
     ]
    },
    {
     "name": "stderr",
     "output_type": "stream",
     "text": [
      "C:\\Users\\chave\\anaconda3\\lib\\site-packages\\sklearn\\metrics\\_classification.py:1318: UndefinedMetricWarning: Recall and F-score are ill-defined and being set to 0.0 in labels with no true samples. Use `zero_division` parameter to control this behavior.\n",
      "  _warn_prf(average, modifier, msg_start, len(result))\n",
      "C:\\Users\\chave\\anaconda3\\lib\\site-packages\\sklearn\\metrics\\_classification.py:1318: UndefinedMetricWarning: Recall and F-score are ill-defined and being set to 0.0 in labels with no true samples. Use `zero_division` parameter to control this behavior.\n",
      "  _warn_prf(average, modifier, msg_start, len(result))\n",
      "C:\\Users\\chave\\anaconda3\\lib\\site-packages\\sklearn\\metrics\\_classification.py:1318: UndefinedMetricWarning: Recall and F-score are ill-defined and being set to 0.0 in labels with no true samples. Use `zero_division` parameter to control this behavior.\n",
      "  _warn_prf(average, modifier, msg_start, len(result))\n"
     ]
    }
   ],
   "source": [
    "#Importo libreria para metricas y genero reporte con recall precision y accuracy\n",
    "from sklearn.metrics import classification_report\n",
    "\n",
    "print(classification_report(y, y_pred_markov))"
   ]
  },
  {
   "cell_type": "code",
   "execution_count": 294,
   "id": "56e84604",
   "metadata": {},
   "outputs": [
    {
     "name": "stderr",
     "output_type": "stream",
     "text": [
      "C:\\Users\\chave\\anaconda3\\lib\\site-packages\\sklearn\\metrics\\_classification.py:1318: UndefinedMetricWarning: Recall and F-score are ill-defined and being set to 0.0 in labels with no true samples. Use `zero_division` parameter to control this behavior.\n",
      "  _warn_prf(average, modifier, msg_start, len(result))\n"
     ]
    }
   ],
   "source": [
    "precision_markov,recall_markov,fscore_markov,support_markov=score(y,y_pred_markov,average='macro')"
   ]
  },
  {
   "cell_type": "code",
   "execution_count": null,
   "id": "51731083",
   "metadata": {},
   "outputs": [],
   "source": []
  },
  {
   "cell_type": "code",
   "execution_count": null,
   "id": "75504531",
   "metadata": {},
   "outputs": [],
   "source": []
  }
 ],
 "metadata": {
  "kernelspec": {
   "display_name": "Python 3 (ipykernel)",
   "language": "python",
   "name": "python3"
  },
  "language_info": {
   "codemirror_mode": {
    "name": "ipython",
    "version": 3
   },
   "file_extension": ".py",
   "mimetype": "text/x-python",
   "name": "python",
   "nbconvert_exporter": "python",
   "pygments_lexer": "ipython3",
   "version": "3.9.12"
  }
 },
 "nbformat": 4,
 "nbformat_minor": 5
}
