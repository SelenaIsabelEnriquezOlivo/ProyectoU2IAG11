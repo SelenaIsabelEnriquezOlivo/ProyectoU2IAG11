{
 "cells": [
  {
   "cell_type": "markdown",
   "id": "f05f519a",
   "metadata": {},
   "source": [
    "# PREDICCIÓN DEL COMPORTAMIENTO AL CONDUCIR "
   ]
  },
  {
   "cell_type": "code",
   "execution_count": 125,
   "id": "8408c6f6",
   "metadata": {},
   "outputs": [],
   "source": [
    "#Para la realización de esta actividad se importaron las siguientes librerias\n",
    "import numpy as np\n",
    "#libreria pandas para el dataset\n",
    "from sklearn.metrics import accuracy_score\n",
    "#librería para los gráficos\n",
    "import matplotlib.pyplot as plt\n",
    "import pandas as pd\n",
    "#librería para la división de datos en entrenamiento y prueba\n",
    "from sklearn.model_selection import train_test_split\n",
    "#librería para el escalamiento  \n",
    "from sklearn.preprocessing import StandardScaler\n",
    "#librería para las métricas\n",
    "#importar librería para gráficos\n",
    "import seaborn as sns\n",
    "#También\n",
    "from sklearn import preprocessing\n",
    "# Import label encoder\n",
    "from sklearn.preprocessing import LabelEncoder\n"
   ]
  },
  {
   "cell_type": "code",
   "execution_count": 126,
   "id": "454364be",
   "metadata": {},
   "outputs": [
    {
     "data": {
      "text/html": [
       "<div>\n",
       "<style scoped>\n",
       "    .dataframe tbody tr th:only-of-type {\n",
       "        vertical-align: middle;\n",
       "    }\n",
       "\n",
       "    .dataframe tbody tr th {\n",
       "        vertical-align: top;\n",
       "    }\n",
       "\n",
       "    .dataframe thead th {\n",
       "        text-align: right;\n",
       "    }\n",
       "</style>\n",
       "<table border=\"1\" class=\"dataframe\">\n",
       "  <thead>\n",
       "    <tr style=\"text-align: right;\">\n",
       "      <th></th>\n",
       "      <th>AccX</th>\n",
       "      <th>AccY</th>\n",
       "      <th>AccZ</th>\n",
       "      <th>GyroX</th>\n",
       "      <th>GyroY</th>\n",
       "      <th>GyroZ</th>\n",
       "      <th>Class</th>\n",
       "      <th>Timestamp</th>\n",
       "    </tr>\n",
       "  </thead>\n",
       "  <tbody>\n",
       "    <tr>\n",
       "      <th>0</th>\n",
       "      <td>0.758194</td>\n",
       "      <td>-0.217791</td>\n",
       "      <td>0.457263</td>\n",
       "      <td>0.000000</td>\n",
       "      <td>0.000000</td>\n",
       "      <td>0.000000</td>\n",
       "      <td>AGGRESSIVE</td>\n",
       "      <td>818922</td>\n",
       "    </tr>\n",
       "    <tr>\n",
       "      <th>1</th>\n",
       "      <td>0.667560</td>\n",
       "      <td>-0.038610</td>\n",
       "      <td>0.231416</td>\n",
       "      <td>-0.054367</td>\n",
       "      <td>-0.007712</td>\n",
       "      <td>0.225257</td>\n",
       "      <td>AGGRESSIVE</td>\n",
       "      <td>818923</td>\n",
       "    </tr>\n",
       "    <tr>\n",
       "      <th>2</th>\n",
       "      <td>2.724449</td>\n",
       "      <td>-7.584121</td>\n",
       "      <td>2.390926</td>\n",
       "      <td>0.023824</td>\n",
       "      <td>0.013668</td>\n",
       "      <td>-0.038026</td>\n",
       "      <td>AGGRESSIVE</td>\n",
       "      <td>818923</td>\n",
       "    </tr>\n",
       "    <tr>\n",
       "      <th>3</th>\n",
       "      <td>2.330950</td>\n",
       "      <td>-7.621754</td>\n",
       "      <td>2.529024</td>\n",
       "      <td>0.056810</td>\n",
       "      <td>-0.180587</td>\n",
       "      <td>-0.052076</td>\n",
       "      <td>AGGRESSIVE</td>\n",
       "      <td>818924</td>\n",
       "    </tr>\n",
       "    <tr>\n",
       "      <th>4</th>\n",
       "      <td>2.847215</td>\n",
       "      <td>-6.755621</td>\n",
       "      <td>2.224640</td>\n",
       "      <td>-0.031765</td>\n",
       "      <td>-0.035201</td>\n",
       "      <td>0.035277</td>\n",
       "      <td>AGGRESSIVE</td>\n",
       "      <td>818924</td>\n",
       "    </tr>\n",
       "  </tbody>\n",
       "</table>\n",
       "</div>"
      ],
      "text/plain": [
       "       AccX      AccY      AccZ     GyroX     GyroY     GyroZ       Class  \\\n",
       "0  0.758194 -0.217791  0.457263  0.000000  0.000000  0.000000  AGGRESSIVE   \n",
       "1  0.667560 -0.038610  0.231416 -0.054367 -0.007712  0.225257  AGGRESSIVE   \n",
       "2  2.724449 -7.584121  2.390926  0.023824  0.013668 -0.038026  AGGRESSIVE   \n",
       "3  2.330950 -7.621754  2.529024  0.056810 -0.180587 -0.052076  AGGRESSIVE   \n",
       "4  2.847215 -6.755621  2.224640 -0.031765 -0.035201  0.035277  AGGRESSIVE   \n",
       "\n",
       "   Timestamp  \n",
       "0     818922  \n",
       "1     818923  \n",
       "2     818923  \n",
       "3     818924  \n",
       "4     818924  "
      ]
     },
     "execution_count": 126,
     "metadata": {},
     "output_type": "execute_result"
    }
   ],
   "source": [
    "#Se realiza la carga del dataset\n",
    "js = pd.read_csv(\"test_motion_data.csv\")\n",
    "#Mostrar el dataset\n",
    "js.head()"
   ]
  },
  {
   "cell_type": "code",
   "execution_count": 127,
   "id": "d10d2ebe",
   "metadata": {},
   "outputs": [],
   "source": [
    "encoder = LabelEncoder()"
   ]
  },
  {
   "cell_type": "code",
   "execution_count": 128,
   "id": "71b977b0",
   "metadata": {},
   "outputs": [
    {
     "data": {
      "text/plain": [
       "array([0, 1, 2])"
      ]
     },
     "execution_count": 128,
     "metadata": {},
     "output_type": "execute_result"
    }
   ],
   "source": [
    "\n",
    "  \n",
    "# label_encoder object knows how to understand word labels.\n",
    "label_encoder = preprocessing.LabelEncoder()\n",
    "  \n",
    "# Encode labels in column 'species'.\n",
    "js['Class']= label_encoder.fit_transform(js['Class'])\n",
    "  \n",
    "js['Class'].unique()"
   ]
  },
  {
   "cell_type": "code",
   "execution_count": 129,
   "id": "ec4d780d",
   "metadata": {},
   "outputs": [],
   "source": [
    "js[\"Class\"]= encoder.fit_transform(js[\"Class\"])"
   ]
  },
  {
   "cell_type": "code",
   "execution_count": 131,
   "id": "0e9ce115",
   "metadata": {},
   "outputs": [
    {
     "data": {
      "text/html": [
       "<div>\n",
       "<style scoped>\n",
       "    .dataframe tbody tr th:only-of-type {\n",
       "        vertical-align: middle;\n",
       "    }\n",
       "\n",
       "    .dataframe tbody tr th {\n",
       "        vertical-align: top;\n",
       "    }\n",
       "\n",
       "    .dataframe thead th {\n",
       "        text-align: right;\n",
       "    }\n",
       "</style>\n",
       "<table border=\"1\" class=\"dataframe\">\n",
       "  <thead>\n",
       "    <tr style=\"text-align: right;\">\n",
       "      <th></th>\n",
       "      <th>AccX</th>\n",
       "      <th>AccY</th>\n",
       "      <th>AccZ</th>\n",
       "      <th>GyroX</th>\n",
       "      <th>GyroY</th>\n",
       "      <th>GyroZ</th>\n",
       "      <th>Class</th>\n",
       "      <th>Timestamp</th>\n",
       "    </tr>\n",
       "  </thead>\n",
       "  <tbody>\n",
       "    <tr>\n",
       "      <th>0</th>\n",
       "      <td>0.758194</td>\n",
       "      <td>-0.217791</td>\n",
       "      <td>0.457263</td>\n",
       "      <td>0.000000</td>\n",
       "      <td>0.000000</td>\n",
       "      <td>0.000000</td>\n",
       "      <td>0</td>\n",
       "      <td>818922</td>\n",
       "    </tr>\n",
       "    <tr>\n",
       "      <th>1</th>\n",
       "      <td>0.667560</td>\n",
       "      <td>-0.038610</td>\n",
       "      <td>0.231416</td>\n",
       "      <td>-0.054367</td>\n",
       "      <td>-0.007712</td>\n",
       "      <td>0.225257</td>\n",
       "      <td>0</td>\n",
       "      <td>818923</td>\n",
       "    </tr>\n",
       "    <tr>\n",
       "      <th>2</th>\n",
       "      <td>2.724449</td>\n",
       "      <td>-7.584121</td>\n",
       "      <td>2.390926</td>\n",
       "      <td>0.023824</td>\n",
       "      <td>0.013668</td>\n",
       "      <td>-0.038026</td>\n",
       "      <td>0</td>\n",
       "      <td>818923</td>\n",
       "    </tr>\n",
       "    <tr>\n",
       "      <th>3</th>\n",
       "      <td>2.330950</td>\n",
       "      <td>-7.621754</td>\n",
       "      <td>2.529024</td>\n",
       "      <td>0.056810</td>\n",
       "      <td>-0.180587</td>\n",
       "      <td>-0.052076</td>\n",
       "      <td>0</td>\n",
       "      <td>818924</td>\n",
       "    </tr>\n",
       "    <tr>\n",
       "      <th>4</th>\n",
       "      <td>2.847215</td>\n",
       "      <td>-6.755621</td>\n",
       "      <td>2.224640</td>\n",
       "      <td>-0.031765</td>\n",
       "      <td>-0.035201</td>\n",
       "      <td>0.035277</td>\n",
       "      <td>0</td>\n",
       "      <td>818924</td>\n",
       "    </tr>\n",
       "    <tr>\n",
       "      <th>...</th>\n",
       "      <td>...</td>\n",
       "      <td>...</td>\n",
       "      <td>...</td>\n",
       "      <td>...</td>\n",
       "      <td>...</td>\n",
       "      <td>...</td>\n",
       "      <td>...</td>\n",
       "      <td>...</td>\n",
       "    </tr>\n",
       "    <tr>\n",
       "      <th>95</th>\n",
       "      <td>0.990379</td>\n",
       "      <td>-1.199478</td>\n",
       "      <td>-0.499061</td>\n",
       "      <td>0.018937</td>\n",
       "      <td>0.238467</td>\n",
       "      <td>0.022449</td>\n",
       "      <td>0</td>\n",
       "      <td>818973</td>\n",
       "    </tr>\n",
       "    <tr>\n",
       "      <th>96</th>\n",
       "      <td>0.966390</td>\n",
       "      <td>-0.531351</td>\n",
       "      <td>-0.235044</td>\n",
       "      <td>-0.023824</td>\n",
       "      <td>0.013057</td>\n",
       "      <td>-0.008094</td>\n",
       "      <td>0</td>\n",
       "      <td>818974</td>\n",
       "    </tr>\n",
       "    <tr>\n",
       "      <th>97</th>\n",
       "      <td>1.663505</td>\n",
       "      <td>-3.251500</td>\n",
       "      <td>-1.394324</td>\n",
       "      <td>0.043982</td>\n",
       "      <td>0.172493</td>\n",
       "      <td>-0.003818</td>\n",
       "      <td>0</td>\n",
       "      <td>818974</td>\n",
       "    </tr>\n",
       "    <tr>\n",
       "      <th>98</th>\n",
       "      <td>-0.020574</td>\n",
       "      <td>-0.246340</td>\n",
       "      <td>0.042918</td>\n",
       "      <td>0.012217</td>\n",
       "      <td>0.008781</td>\n",
       "      <td>0.071929</td>\n",
       "      <td>0</td>\n",
       "      <td>818975</td>\n",
       "    </tr>\n",
       "    <tr>\n",
       "      <th>99</th>\n",
       "      <td>1.048250</td>\n",
       "      <td>0.331954</td>\n",
       "      <td>-0.676749</td>\n",
       "      <td>0.010385</td>\n",
       "      <td>-0.084070</td>\n",
       "      <td>0.038943</td>\n",
       "      <td>0</td>\n",
       "      <td>818976</td>\n",
       "    </tr>\n",
       "  </tbody>\n",
       "</table>\n",
       "<p>100 rows × 8 columns</p>\n",
       "</div>"
      ],
      "text/plain": [
       "        AccX      AccY      AccZ     GyroX     GyroY     GyroZ  Class  \\\n",
       "0   0.758194 -0.217791  0.457263  0.000000  0.000000  0.000000      0   \n",
       "1   0.667560 -0.038610  0.231416 -0.054367 -0.007712  0.225257      0   \n",
       "2   2.724449 -7.584121  2.390926  0.023824  0.013668 -0.038026      0   \n",
       "3   2.330950 -7.621754  2.529024  0.056810 -0.180587 -0.052076      0   \n",
       "4   2.847215 -6.755621  2.224640 -0.031765 -0.035201  0.035277      0   \n",
       "..       ...       ...       ...       ...       ...       ...    ...   \n",
       "95  0.990379 -1.199478 -0.499061  0.018937  0.238467  0.022449      0   \n",
       "96  0.966390 -0.531351 -0.235044 -0.023824  0.013057 -0.008094      0   \n",
       "97  1.663505 -3.251500 -1.394324  0.043982  0.172493 -0.003818      0   \n",
       "98 -0.020574 -0.246340  0.042918  0.012217  0.008781  0.071929      0   \n",
       "99  1.048250  0.331954 -0.676749  0.010385 -0.084070  0.038943      0   \n",
       "\n",
       "    Timestamp  \n",
       "0      818922  \n",
       "1      818923  \n",
       "2      818923  \n",
       "3      818924  \n",
       "4      818924  \n",
       "..        ...  \n",
       "95     818973  \n",
       "96     818974  \n",
       "97     818974  \n",
       "98     818975  \n",
       "99     818976  \n",
       "\n",
       "[100 rows x 8 columns]"
      ]
     },
     "execution_count": 131,
     "metadata": {},
     "output_type": "execute_result"
    }
   ],
   "source": [
    "js.head(100)"
   ]
  },
  {
   "cell_type": "markdown",
   "id": "88d795f8",
   "metadata": {},
   "source": [
    "## SE REALIZA LA DESCRIPCIÓN DEL DATASET UTILIZADO \n",
    "El Dataset contiene datos los cuales seran usados para un aprendizaje profundo y el aprendizaje automático  con el proposito de predecir el comportamiento de conducción, según lo informado por la AAA Foundation for Traffic Safety , 106,727 accidentes fatales, el 55.7 por ciento del total, durante un período reciente de cuatro años involucraron a conductores que cometieron una o más acciones de conducción agresivas. Por tanto, aplicando los metodos de Naive bayes y hidden markov model se prentende responder lo siguiente ¿cómo predecir comportamientos de conducción peligrosos de forma rápida y precisa? <br>\n",
    "Link del dataset usado: https://www.kaggle.com/datasets/outofskills/driving-behavior\n",
    "\n"
   ]
  },
  {
   "cell_type": "markdown",
   "id": "8c18bd1f",
   "metadata": {},
   "source": [
    "# CARACTERIZACIÓN DEL DATASET\n",
    "#Usano count se obtienen el numero de instancias del data set"
   ]
  },
  {
   "cell_type": "code",
   "execution_count": 113,
   "id": "9f68c8ee",
   "metadata": {},
   "outputs": [
    {
     "name": "stdout",
     "output_type": "stream",
     "text": [
      "<class 'pandas.core.frame.DataFrame'>\n",
      "RangeIndex: 3683 entries, 0 to 3682\n",
      "Data columns (total 7 columns):\n",
      " #   Column     Non-Null Count  Dtype  \n",
      "---  ------     --------------  -----  \n",
      " 0   AccX       3683 non-null   float64\n",
      " 1   AccY       3683 non-null   float64\n",
      " 2   AccZ       3683 non-null   float64\n",
      " 3   GyroX      3683 non-null   float64\n",
      " 4   GyroY      3683 non-null   float64\n",
      " 5   GyroZ      3683 non-null   float64\n",
      " 6   Timestamp  3683 non-null   int64  \n",
      "dtypes: float64(6), int64(1)\n",
      "memory usage: 201.5 KB\n"
     ]
    }
   ],
   "source": [
    "#Muestra la información y el tipo de dato.\n",
    "js.drop('Class', axis=1).info()"
   ]
  },
  {
   "cell_type": "markdown",
   "id": "6944982c",
   "metadata": {},
   "source": [
    "\n",
    "***variable objetivo***\n",
    "\n",
    "\n",
    "--> Class -categorica (comportamiento al conducir-lento, normal, agresivo)\n",
    "\n",
    "--> Aceleración (ejes X,Y,Z en metros por segundo al cuadrado (m/s2))\n",
    "--> Giro (ejes X,Y,Z en metros por segundo al cuadrado (m/s2))\n"
   ]
  },
  {
   "cell_type": "markdown",
   "id": "2f0e579b",
   "metadata": {},
   "source": [
    "# Se realiza la limpieza de datos"
   ]
  },
  {
   "cell_type": "code",
   "execution_count": 92,
   "id": "e147bb35",
   "metadata": {},
   "outputs": [],
   "source": [
    "#Se realiza la transformación de las caracteristicas(Variable objetivo y variables de entrada) \n",
    "y = js[['Class']]\n",
    "X = js[['AccX','AccY','AccZ','GyroX','GyroY','GyroZ','Timestamp']]"
   ]
  },
  {
   "cell_type": "markdown",
   "id": "cf55a349",
   "metadata": {},
   "source": [
    "# Se realiza la busqueda de valores nulos"
   ]
  },
  {
   "cell_type": "code",
   "execution_count": 93,
   "id": "b4a6e929",
   "metadata": {},
   "outputs": [
    {
     "data": {
      "text/plain": [
       "AccX         0\n",
       "AccY         0\n",
       "AccZ         0\n",
       "GyroX        0\n",
       "GyroY        0\n",
       "GyroZ        0\n",
       "Timestamp    0\n",
       "dtype: int64"
      ]
     },
     "execution_count": 93,
     "metadata": {},
     "output_type": "execute_result"
    }
   ],
   "source": [
    "#Comprobación de valores nulos(datos de entrada) \n",
    "X.isnull().sum()"
   ]
  },
  {
   "cell_type": "markdown",
   "id": "9cab4c31",
   "metadata": {},
   "source": [
    "No existen valores nulos "
   ]
  },
  {
   "cell_type": "code",
   "execution_count": 94,
   "id": "f3dc215e",
   "metadata": {},
   "outputs": [
    {
     "data": {
      "text/plain": [
       "Class    0\n",
       "dtype: int64"
      ]
     },
     "execution_count": 94,
     "metadata": {},
     "output_type": "execute_result"
    }
   ],
   "source": [
    "#Se realiza la comprobación de valores nulos(variable objetivo)\n",
    "y.isnull().sum()"
   ]
  },
  {
   "cell_type": "markdown",
   "id": "74f8d419",
   "metadata": {},
   "source": [
    "No exixten valores nulos en la variable objetivo ."
   ]
  },
  {
   "cell_type": "markdown",
   "id": "0d0982c8",
   "metadata": {},
   "source": [
    "# SE REALIZA LA BUSQUEDA DE VALORES DUPLICADOS"
   ]
  },
  {
   "cell_type": "code",
   "execution_count": 95,
   "id": "f628bf37",
   "metadata": {},
   "outputs": [
    {
     "data": {
      "text/plain": [
       "Class    0\n",
       "dtype: int64"
      ]
     },
     "execution_count": 95,
     "metadata": {},
     "output_type": "execute_result"
    }
   ],
   "source": [
    "#Se realiza la comprobación de valores nulos en la variable objetivo\n",
    "y.isnull().sum()"
   ]
  },
  {
   "cell_type": "markdown",
   "id": "255169d5",
   "metadata": {},
   "source": [
    "# SELECCION DE CARACTERÍSTICAS"
   ]
  },
  {
   "cell_type": "markdown",
   "id": "96b003e2",
   "metadata": {},
   "source": [
    "# SE REMUEVEN LOS VALORES"
   ]
  },
  {
   "cell_type": "code",
   "execution_count": 96,
   "id": "7a66d631",
   "metadata": {},
   "outputs": [],
   "source": [
    "#Dataset con las instancias de los atributos o caracteristicas seleciconas\n",
    "variables_seleccionadas = ['GyroX','AccX','GyroY']\n",
    "#Se remueven los valores \n",
    "for a in variables_seleccionadas: \n",
    "    q1 = js[a].quantile(0.25)\n",
    "    q3 = js[a].quantile(0.75)\n",
    "    iqr = q3-q1\n",
    "    upper = q3 + 1.5*iqr\n",
    "    lower = q1 - 1.5*iqr\n",
    "    js = js[(js[a] > 0) & (js[a] < upper)]"
   ]
  },
  {
   "cell_type": "code",
   "execution_count": 97,
   "id": "7f7804e3",
   "metadata": {},
   "outputs": [
    {
     "data": {
      "text/plain": [
       "AccX         float64\n",
       "AccY         float64\n",
       "AccZ         float64\n",
       "GyroX        float64\n",
       "GyroY        float64\n",
       "GyroZ        float64\n",
       "Timestamp      int64\n",
       "dtype: object"
      ]
     },
     "execution_count": 97,
     "metadata": {},
     "output_type": "execute_result"
    }
   ],
   "source": [
    "#Se imprime las características que tiene mayor correlación\n",
    "X.dtypes"
   ]
  },
  {
   "cell_type": "code",
   "execution_count": 98,
   "id": "93c1434c",
   "metadata": {},
   "outputs": [
    {
     "data": {
      "text/plain": [
       "array([0, 1, 2])"
      ]
     },
     "execution_count": 98,
     "metadata": {},
     "output_type": "execute_result"
    }
   ],
   "source": [
    "#Se procede a imprimir los valores unicos de la variable de salida\n",
    "np.unique(y)"
   ]
  },
  {
   "cell_type": "markdown",
   "id": "c91a66a9",
   "metadata": {},
   "source": [
    "# ESTANDARIZACIÓN"
   ]
  },
  {
   "cell_type": "code",
   "execution_count": 99,
   "id": "f5a86cad",
   "metadata": {},
   "outputs": [],
   "source": [
    "# Se importar el metodo de scalado standar\n",
    "from sklearn.preprocessing import StandardScaler\n",
    "from skfuzzy import control as ctrl\n",
    "from fcmeans import FCM\n",
    "# Se formar objeto de scala para entradas\n",
    "VariablesEntradaScaler=StandardScaler()"
   ]
  },
  {
   "cell_type": "code",
   "execution_count": 100,
   "id": "f659f3be",
   "metadata": {},
   "outputs": [],
   "source": [
    " #Datos de entrada\n",
    "VariablesEntradaFit=VariablesEntradaScaler.fit(X)"
   ]
  },
  {
   "cell_type": "code",
   "execution_count": 101,
   "id": "3fb79cf0",
   "metadata": {},
   "outputs": [],
   "source": [
    "#Generación de los valores estandarizados de X e y\n",
    "#Datos e entrada\n",
    "X=VariablesEntradaFit.transform(X)"
   ]
  },
  {
   "cell_type": "code",
   "execution_count": 104,
   "id": "3928123d",
   "metadata": {},
   "outputs": [],
   "source": [
    "#Implemento el modelo fuzzy probabilistico con referencia a\n",
    "modelo_fuzzy = FCM(n_clusters=4,init=1.7,random_state=0, fuzzifier=2) \n",
    "modelo_fuzzy.fit(X) "
   ]
  },
  {
   "cell_type": "markdown",
   "id": "59f09821",
   "metadata": {},
   "source": [
    "# SE REALIZA LA DIVICION DEL SET EN DATOS DE ENTRANAMIENTO"
   ]
  },
  {
   "cell_type": "code",
   "execution_count": 55,
   "id": "cd80b064",
   "metadata": {},
   "outputs": [],
   "source": [
    "#Libreria para la division del set de datos en entrenamiento y prueba\n",
    "from sklearn.model_selection import train_test_split\n",
    "X_train, X_test, y_train, y_test = train_test_split(X, y, test_size=0.3, random_state=1)"
   ]
  },
  {
   "cell_type": "code",
   "execution_count": 56,
   "id": "b9e79799",
   "metadata": {},
   "outputs": [
    {
     "data": {
      "text/plain": [
       "((2578, 7), (1105, 7))"
      ]
     },
     "execution_count": 56,
     "metadata": {},
     "output_type": "execute_result"
    }
   ],
   "source": [
    "#Tamaño del set de entrenamiento\n",
    "X_train.shape, X_test.shape"
   ]
  },
  {
   "cell_type": "code",
   "execution_count": 57,
   "id": "2bc6c53d",
   "metadata": {},
   "outputs": [
    {
     "data": {
      "text/plain": [
       "((2578, 1), (1105, 1))"
      ]
     },
     "execution_count": 57,
     "metadata": {},
     "output_type": "execute_result"
    }
   ],
   "source": [
    "#Tamaño del set de prueba\n",
    "y_train.shape, y_test.shape"
   ]
  },
  {
   "cell_type": "code",
   "execution_count": null,
   "id": "d4add234",
   "metadata": {},
   "outputs": [],
   "source": []
  },
  {
   "cell_type": "markdown",
   "id": "0b7aa5d1",
   "metadata": {},
   "source": [
    "# SE IMPLEMENTA EL MODELO DE NAIVE-BAYES"
   ]
  },
  {
   "cell_type": "code",
   "execution_count": 105,
   "id": "cc2bbe6f",
   "metadata": {},
   "outputs": [
    {
     "name": "stderr",
     "output_type": "stream",
     "text": [
      "C:\\Users\\chave\\anaconda3\\lib\\site-packages\\sklearn\\utils\\validation.py:993: DataConversionWarning: A column-vector y was passed when a 1d array was expected. Please change the shape of y to (n_samples, ), for example using ravel().\n",
      "  y = column_or_1d(y, warn=True)\n"
     ]
    }
   ],
   "source": [
    "#Importo libreria para realizar el modelo de Naive Bayes\n",
    "from sklearn.naive_bayes import GaussianNB\n",
    "from sklearn.metrics import accuracy_score\n",
    "from sklearn.metrics import confusion_matrix, plot_confusion_matrix\n",
    "import matplotlib.pyplot as plt\n",
    "#Permite obtener la precision recall f1\n",
    "from sklearn.metrics import precision_recall_fscore_support as score\n",
    "#Librería para generar un reporte con las  metricas del modelo\n",
    "from sklearn.metrics import classification_report\n",
    "#Modelo\n",
    "ms = GaussianNB()\n",
    "#Entreno el modelo y aplico en el set de prueba\n",
    "y_pred = ms.fit(X_train, y_train).predict(X_test)"
   ]
  },
  {
   "cell_type": "code",
   "execution_count": 107,
   "id": "032d6bc9",
   "metadata": {},
   "outputs": [
    {
     "name": "stdout",
     "output_type": "stream",
     "text": [
      "0.7285067873303167\n"
     ]
    }
   ],
   "source": [
    "#Se obtiene el Accuracy\n",
    "acc_score_naive = accuracy_score(y_test, y_pred)\n",
    "#Se imprime\n",
    "print(acc_score_naive)"
   ]
  },
  {
   "cell_type": "code",
   "execution_count": 108,
   "id": "6fdbff5a",
   "metadata": {},
   "outputs": [
    {
     "name": "stdout",
     "output_type": "stream",
     "text": [
      "[[265   0   0]\n",
      " [113 163 186]\n",
      " [  0   1 377]]\n"
     ]
    }
   ],
   "source": [
    "#Matriz de confusión\n",
    "se = confusion_matrix(y_test, y_pred)\n",
    "print(se)"
   ]
  },
  {
   "cell_type": "code",
   "execution_count": 109,
   "id": "5ddb1918",
   "metadata": {},
   "outputs": [
    {
     "name": "stdout",
     "output_type": "stream",
     "text": [
      "              precision    recall  f1-score   support\n",
      "\n",
      "           0       0.70      1.00      0.82       265\n",
      "           1       0.99      0.35      0.52       462\n",
      "           2       0.67      1.00      0.80       378\n",
      "\n",
      "    accuracy                           0.73      1105\n",
      "   macro avg       0.79      0.78      0.72      1105\n",
      "weighted avg       0.81      0.73      0.69      1105\n",
      "\n"
     ]
    }
   ],
   "source": [
    "#Se muestran las metricas (accuracy, precision, recall)\n",
    "print(classification_report(y_test, y_pred))"
   ]
  },
  {
   "cell_type": "code",
   "execution_count": 62,
   "id": "17a0900e",
   "metadata": {},
   "outputs": [],
   "source": [
    "#Precisión \n",
    "precision_naive,recall_naive,fscore_naive,support_naive=score(y_test,y_pred,average='macro')"
   ]
  },
  {
   "cell_type": "markdown",
   "id": "9d6db037",
   "metadata": {},
   "source": [
    "# SE APLICA EL MODELO DE FUZZY PROBABILISTICO"
   ]
  },
  {
   "cell_type": "code",
   "execution_count": 63,
   "id": "69156dd6",
   "metadata": {},
   "outputs": [],
   "source": [
    "#Instalacion de scikit-fuzzy \n",
    "import numpy as np\n",
    "import skfuzzy as fuzz\n",
    "#Importar la funcion control logica difusa para crear sistema de control\n",
    "from skfuzzy import control as ctrl\n",
    "from fcmeans import FCM"
   ]
  },
  {
   "cell_type": "code",
   "execution_count": 64,
   "id": "d97d003b",
   "metadata": {},
   "outputs": [],
   "source": [
    "#Transformación de las caracteristicas \n",
    "# Variable objetivo y variables de entrada\n",
    "y = js[['Class']]\n",
    "X = js[['AccX','AccY','AccZ','GyroX','GyroY','GyroZ','Timestamp']]"
   ]
  },
  {
   "cell_type": "markdown",
   "id": "e0094169",
   "metadata": {},
   "source": [
    "# ESTANDARIZACIÓN"
   ]
  },
  {
   "cell_type": "code",
   "execution_count": 65,
   "id": "467d55eb",
   "metadata": {},
   "outputs": [],
   "source": [
    "# Se importar el metodo de scalado standar\n",
    "from sklearn.preprocessing import StandardScaler\n",
    "# Se formar objeto de scala para entradas\n",
    "VariablesEntradaScaler=StandardScaler()"
   ]
  },
  {
   "cell_type": "code",
   "execution_count": 66,
   "id": "9e0c68ea",
   "metadata": {},
   "outputs": [],
   "source": [
    " #Datos de entrada\n",
    "VariablesEntradaFit=VariablesEntradaScaler.fit(X)"
   ]
  },
  {
   "cell_type": "code",
   "execution_count": 67,
   "id": "91454779",
   "metadata": {},
   "outputs": [],
   "source": [
    "#Generación de los valores estandarizados de X e y\n",
    "#Datos e entrada\n",
    "X=VariablesEntradaFit.transform(X)"
   ]
  },
  {
   "cell_type": "code",
   "execution_count": 68,
   "id": "88bd6f6b",
   "metadata": {},
   "outputs": [],
   "source": [
    "#Implemento el modelo fuzzy probabilistico con referencia a\n",
    "modelo_fuzzy = FCM(n_clusters=4,init=1.7,random_state=0, fuzzifier=2) \n",
    "modelo_fuzzy.fit(X) "
   ]
  },
  {
   "cell_type": "code",
   "execution_count": 69,
   "id": "20506d98",
   "metadata": {},
   "outputs": [
    {
     "data": {
      "text/plain": [
       "array([1, 1, 2, 2, 2, 1, 2, 2, 2, 1, 1, 2, 2, 2, 2, 1, 1, 2, 1, 2, 1, 1,\n",
       "       1, 2, 1, 2, 1, 1, 2, 1, 2, 2, 1, 1, 1, 1, 1, 1, 1, 1, 2, 2, 2, 1,\n",
       "       2, 2, 2, 1, 1, 2, 2, 2, 1, 2, 2, 2, 2, 1, 1, 2, 2, 2, 1, 1, 1, 2,\n",
       "       2, 2, 2, 2, 2, 1, 2, 1, 2, 2, 1, 2, 2, 2, 1, 2, 2, 1, 1, 2, 2, 2,\n",
       "       1, 1, 2, 2, 2, 2, 2, 2, 2, 2, 2, 2, 1, 2, 2, 2, 2, 2, 2, 2, 2, 2,\n",
       "       2, 1, 2, 1, 1, 2, 2, 2, 2, 1, 1, 2, 1, 1, 1, 1, 1, 2, 1, 1, 2, 1,\n",
       "       1, 2, 1, 1, 1, 1, 1, 2, 2, 1, 2, 2, 1, 2, 2, 1, 2, 1, 1, 1, 2, 2,\n",
       "       1, 2, 1, 2, 2, 1, 1, 1, 1, 2, 2, 1, 1, 1, 1, 2, 2, 1, 2, 1, 1, 1,\n",
       "       1, 2, 1, 2, 2, 1, 2, 2, 2, 2, 2, 1, 2, 1, 2, 2, 2, 2, 2, 2, 2, 2,\n",
       "       1, 2, 1, 1, 2, 1, 2, 2, 2, 2, 2, 2, 2, 2, 2, 1, 2, 2, 2, 2, 2, 1,\n",
       "       1, 1, 1, 2, 1, 2, 2, 2, 2, 2, 2, 2, 1, 2, 1, 2, 2, 1, 1, 2, 1, 2,\n",
       "       1, 1, 2, 1, 2, 2, 1, 1, 1, 2, 2, 1, 1, 1, 1, 2, 2, 2, 1, 1, 2, 1,\n",
       "       1, 1, 2, 1, 2, 1, 2, 2, 2, 1, 2, 2, 1, 1, 2, 2, 2, 2, 1, 2, 2, 2,\n",
       "       2, 2, 2, 2, 2, 2, 2, 2, 1, 2, 2, 2, 1, 1, 1, 2, 2, 1, 2, 2, 2, 2,\n",
       "       2, 2, 2, 1, 2, 2, 1, 2, 1, 2, 2, 2, 1, 1, 1, 1, 2, 2, 2, 2, 2, 1,\n",
       "       1, 2, 2, 2, 2, 2, 2, 2, 2, 1, 2, 2, 2, 2, 1, 2, 1, 1, 2, 2, 2, 2,\n",
       "       2, 2, 2, 2, 2, 1, 1, 2, 1, 1, 1, 1, 1, 1, 1, 1, 1, 2, 1, 1, 1, 1,\n",
       "       1, 1, 1, 1, 2, 1, 1, 2, 2, 1, 1, 2, 2, 1, 2, 1, 1, 2, 1, 2, 1, 1,\n",
       "       1, 1, 1, 1, 1, 1, 1, 2, 1, 1, 2, 2, 1, 1, 1, 1, 1, 2, 1, 1, 1, 1,\n",
       "       2, 1, 2, 2], dtype=int64)"
      ]
     },
     "execution_count": 69,
     "metadata": {},
     "output_type": "execute_result"
    }
   ],
   "source": [
    "#Obtengo los centroides\n",
    "centers = modelo_fuzzy.centers\n",
    "y_pred_fuzzy = modelo_fuzzy.predict(X)\n",
    "y_pred_fuzzy"
   ]
  },
  {
   "cell_type": "code",
   "execution_count": 70,
   "id": "1085fd73",
   "metadata": {},
   "outputs": [
    {
     "name": "stdout",
     "output_type": "stream",
     "text": [
      "0.466824644549763\n"
     ]
    }
   ],
   "source": [
    "#Accuracy del modelo fuzzy\n",
    "acc_score_fuzzy = accuracy_score(y, y_pred_fuzzy)\n",
    "#Se imprimo el accuracy del modelo \n",
    "print(acc_score_fuzzy)"
   ]
  },
  {
   "cell_type": "code",
   "execution_count": 71,
   "id": "709b4124",
   "metadata": {},
   "outputs": [
    {
     "name": "stdout",
     "output_type": "stream",
     "text": [
      "[[  0  39  50]\n",
      " [  0  97  85]\n",
      " [  0  51 100]]\n"
     ]
    }
   ],
   "source": [
    "#Obtengo matriz de confusion \n",
    "cm_fuzzy = confusion_matrix(y, y_pred_fuzzy)\n",
    "print(cm_fuzzy)"
   ]
  },
  {
   "cell_type": "code",
   "execution_count": 72,
   "id": "ccef108f",
   "metadata": {},
   "outputs": [],
   "source": [
    "#Libreria para graficar la matriz de confusión\n",
    "import matplotlib as mpl\n",
    "cmap = mpl.colormaps['viridis']\n"
   ]
  },
  {
   "cell_type": "code",
   "execution_count": 73,
   "id": "34e392fb",
   "metadata": {},
   "outputs": [
    {
     "data": {
      "text/plain": [
       "<AxesSubplot:>"
      ]
     },
     "execution_count": 73,
     "metadata": {},
     "output_type": "execute_result"
    },
    {
     "data": {
      "image/png": "[encoded data removed]",
      "text/plain": [
       "<Figure size 432x288 with 2 Axes>"
      ]
     },
     "metadata": {
      "needs_background": "light"
     },
     "output_type": "display_data"
    }
   ],
   "source": [
    "sns.heatmap(confusion_matrix(y, y_pred_fuzzy), annot=True,cmap=\"viridis\")"
   ]
  },
  {
   "cell_type": "code",
   "execution_count": 74,
   "id": "0f73fce1",
   "metadata": {},
   "outputs": [
    {
     "name": "stdout",
     "output_type": "stream",
     "text": [
      "              precision    recall  f1-score   support\n",
      "\n",
      "           0       0.00      0.00      0.00        89\n",
      "           1       0.52      0.53      0.53       182\n",
      "           2       0.43      0.66      0.52       151\n",
      "\n",
      "    accuracy                           0.47       422\n",
      "   macro avg       0.31      0.40      0.35       422\n",
      "weighted avg       0.38      0.47      0.41       422\n",
      "\n"
     ]
    },
    {
     "name": "stderr",
     "output_type": "stream",
     "text": [
      "C:\\Users\\chave\\anaconda3\\lib\\site-packages\\sklearn\\metrics\\_classification.py:1318: UndefinedMetricWarning: Precision and F-score are ill-defined and being set to 0.0 in labels with no predicted samples. Use `zero_division` parameter to control this behavior.\n",
      "  _warn_prf(average, modifier, msg_start, len(result))\n",
      "C:\\Users\\chave\\anaconda3\\lib\\site-packages\\sklearn\\metrics\\_classification.py:1318: UndefinedMetricWarning: Precision and F-score are ill-defined and being set to 0.0 in labels with no predicted samples. Use `zero_division` parameter to control this behavior.\n",
      "  _warn_prf(average, modifier, msg_start, len(result))\n",
      "C:\\Users\\chave\\anaconda3\\lib\\site-packages\\sklearn\\metrics\\_classification.py:1318: UndefinedMetricWarning: Precision and F-score are ill-defined and being set to 0.0 in labels with no predicted samples. Use `zero_division` parameter to control this behavior.\n",
      "  _warn_prf(average, modifier, msg_start, len(result))\n"
     ]
    }
   ],
   "source": [
    "#Se dan a conocer las metricas principales del fuzzy\n",
    "print(classification_report(y, y_pred_fuzzy))"
   ]
  },
  {
   "cell_type": "code",
   "execution_count": 75,
   "id": "408ba703",
   "metadata": {},
   "outputs": [
    {
     "name": "stderr",
     "output_type": "stream",
     "text": [
      "C:\\Users\\chave\\anaconda3\\lib\\site-packages\\sklearn\\metrics\\_classification.py:1318: UndefinedMetricWarning: Precision and F-score are ill-defined and being set to 0.0 in labels with no predicted samples. Use `zero_division` parameter to control this behavior.\n",
      "  _warn_prf(average, modifier, msg_start, len(result))\n"
     ]
    },
    {
     "data": {
      "text/plain": [
       "0.314749497477908"
      ]
     },
     "execution_count": 75,
     "metadata": {},
     "output_type": "execute_result"
    }
   ],
   "source": [
    "#Se muestra la precision \n",
    "precision_fuzzy,recall_fuzzy,fscore_fuzzy,support_fuzzy=score(y,y_pred_fuzzy,average='macro')\n",
    "precision_fuzzy"
   ]
  },
  {
   "cell_type": "markdown",
   "id": "3239da85",
   "metadata": {},
   "source": [
    "# SE APLICA EL MODELO DE HIDDEN MARKOV MODEL"
   ]
  },
  {
   "cell_type": "code",
   "execution_count": 76,
   "id": "d7067c66",
   "metadata": {},
   "outputs": [
    {
     "data": {
      "text/html": [
       "<div>\n",
       "<style scoped>\n",
       "    .dataframe tbody tr th:only-of-type {\n",
       "        vertical-align: middle;\n",
       "    }\n",
       "\n",
       "    .dataframe tbody tr th {\n",
       "        vertical-align: top;\n",
       "    }\n",
       "\n",
       "    .dataframe thead th {\n",
       "        text-align: right;\n",
       "    }\n",
       "</style>\n",
       "<table border=\"1\" class=\"dataframe\">\n",
       "  <thead>\n",
       "    <tr style=\"text-align: right;\">\n",
       "      <th></th>\n",
       "      <th>AccX</th>\n",
       "      <th>AccY</th>\n",
       "      <th>AccZ</th>\n",
       "      <th>GyroX</th>\n",
       "      <th>GyroY</th>\n",
       "      <th>GyroZ</th>\n",
       "      <th>Class</th>\n",
       "      <th>Timestamp</th>\n",
       "    </tr>\n",
       "  </thead>\n",
       "  <tbody>\n",
       "    <tr>\n",
       "      <th>7</th>\n",
       "      <td>0.043449</td>\n",
       "      <td>0.228911</td>\n",
       "      <td>0.354669</td>\n",
       "      <td>0.070250</td>\n",
       "      <td>0.050320</td>\n",
       "      <td>0.077427</td>\n",
       "      <td>0</td>\n",
       "      <td>818926</td>\n",
       "    </tr>\n",
       "    <tr>\n",
       "      <th>11</th>\n",
       "      <td>0.364388</td>\n",
       "      <td>0.234002</td>\n",
       "      <td>-0.873113</td>\n",
       "      <td>0.090408</td>\n",
       "      <td>0.052763</td>\n",
       "      <td>0.412181</td>\n",
       "      <td>0</td>\n",
       "      <td>818928</td>\n",
       "    </tr>\n",
       "    <tr>\n",
       "      <th>18</th>\n",
       "      <td>0.102754</td>\n",
       "      <td>2.449629</td>\n",
       "      <td>-0.089049</td>\n",
       "      <td>0.019548</td>\n",
       "      <td>0.000229</td>\n",
       "      <td>-0.086285</td>\n",
       "      <td>0</td>\n",
       "      <td>818932</td>\n",
       "    </tr>\n",
       "    <tr>\n",
       "      <th>27</th>\n",
       "      <td>0.182101</td>\n",
       "      <td>-0.162865</td>\n",
       "      <td>-0.165545</td>\n",
       "      <td>0.011606</td>\n",
       "      <td>0.038103</td>\n",
       "      <td>-0.021533</td>\n",
       "      <td>0</td>\n",
       "      <td>818937</td>\n",
       "    </tr>\n",
       "    <tr>\n",
       "      <th>33</th>\n",
       "      <td>0.029505</td>\n",
       "      <td>0.107665</td>\n",
       "      <td>0.494569</td>\n",
       "      <td>0.004887</td>\n",
       "      <td>0.016112</td>\n",
       "      <td>-0.008705</td>\n",
       "      <td>0</td>\n",
       "      <td>818940</td>\n",
       "    </tr>\n",
       "  </tbody>\n",
       "</table>\n",
       "</div>"
      ],
      "text/plain": [
       "        AccX      AccY      AccZ     GyroX     GyroY     GyroZ  Class  \\\n",
       "7   0.043449  0.228911  0.354669  0.070250  0.050320  0.077427      0   \n",
       "11  0.364388  0.234002 -0.873113  0.090408  0.052763  0.412181      0   \n",
       "18  0.102754  2.449629 -0.089049  0.019548  0.000229 -0.086285      0   \n",
       "27  0.182101 -0.162865 -0.165545  0.011606  0.038103 -0.021533      0   \n",
       "33  0.029505  0.107665  0.494569  0.004887  0.016112 -0.008705      0   \n",
       "\n",
       "    Timestamp  \n",
       "7      818926  \n",
       "11     818928  \n",
       "18     818932  \n",
       "27     818937  \n",
       "33     818940  "
      ]
     },
     "execution_count": 76,
     "metadata": {},
     "output_type": "execute_result"
    }
   ],
   "source": [
    "#Librería para implementar el modelo de Hidden Markov\n",
    "from hmmlearn.hmm import GaussianHMM\n",
    "js.head()"
   ]
  },
  {
   "cell_type": "code",
   "execution_count": 77,
   "id": "9a341339",
   "metadata": {},
   "outputs": [],
   "source": [
    "# Se transforma las características (Variable objetivo y variables de entrada)\n",
    "y = js[['Class']]\n",
    "X = js[['AccX','AccY','AccZ','GyroX','GyroY','GyroZ','Timestamp']]"
   ]
  },
  {
   "cell_type": "code",
   "execution_count": 78,
   "id": "95d7bfdd",
   "metadata": {},
   "outputs": [
    {
     "data": {
      "text/plain": [
       "AccX         float64\n",
       "AccY         float64\n",
       "AccZ         float64\n",
       "GyroX        float64\n",
       "GyroY        float64\n",
       "GyroZ        float64\n",
       "Timestamp      int64\n",
       "dtype: object"
      ]
     },
     "execution_count": 78,
     "metadata": {},
     "output_type": "execute_result"
    }
   ],
   "source": [
    "#Características que tiene mayor correlación\n",
    "X.dtypes"
   ]
  },
  {
   "cell_type": "code",
   "execution_count": 79,
   "id": "fb08d705",
   "metadata": {},
   "outputs": [],
   "source": [
    "### Estandarización de la data ###\n",
    "# importar metodo de scalado standar\n",
    "from sklearn.preprocessing import StandardScaler\n",
    "# Formar objeto de scala para entradas\n",
    "VariablesEntradaScaler=StandardScaler()"
   ]
  },
  {
   "cell_type": "code",
   "execution_count": 80,
   "id": "66e356ea",
   "metadata": {},
   "outputs": [],
   "source": [
    "#Almacenamiento ==> Datos de entrada\n",
    "VariablesEntradaFit=VariablesEntradaScaler.fit(X)\n"
   ]
  },
  {
   "cell_type": "code",
   "execution_count": 81,
   "id": "e5577254",
   "metadata": {},
   "outputs": [],
   "source": [
    "#Se genera los valores estandarizados de X e y\n",
    "#Datos e entrada\n",
    "X=VariablesEntradaFit.transform(X)"
   ]
  },
  {
   "cell_type": "markdown",
   "id": "eb96342a",
   "metadata": {},
   "source": [
    "# MODELO"
   ]
  },
  {
   "cell_type": "code",
   "execution_count": 82,
   "id": "bf36d464",
   "metadata": {},
   "outputs": [
    {
     "data": {
      "text/plain": [
       "array([3, 3, 1, 0, 0, 1, 0, 0, 0, 1, 1, 0, 0, 1, 0, 1, 1, 1, 1, 1, 1, 1,\n",
       "       1, 1, 1, 1, 1, 1, 1, 1, 1, 1, 1, 1, 1, 1, 1, 1, 1, 1, 1, 0, 0, 1,\n",
       "       1, 0, 1, 1, 0, 0, 0, 1, 1, 0, 1, 1, 1, 1, 1, 0, 0, 0, 1, 1, 1, 1,\n",
       "       1, 1, 0, 1, 1, 1, 1, 1, 1, 1, 1, 1, 0, 0, 1, 1, 1, 1, 1, 0, 1, 1,\n",
       "       1, 1, 1, 1, 0, 0, 0, 0, 0, 0, 1, 1, 1, 0, 0, 0, 0, 0, 0, 1, 0, 0,\n",
       "       0, 1, 1, 1, 1, 1, 1, 0, 1, 1, 1, 1, 1, 1, 1, 1, 1, 1, 1, 1, 1, 1,\n",
       "       1, 0, 1, 1, 1, 1, 1, 0, 1, 1, 0, 0, 1, 0, 0, 1, 0, 1, 1, 1, 0, 0,\n",
       "       1, 1, 1, 1, 1, 1, 1, 1, 1, 1, 1, 1, 1, 1, 1, 0, 0, 1, 0, 1, 1, 1,\n",
       "       1, 1, 1, 0, 0, 1, 0, 0, 0, 0, 0, 1, 1, 1, 1, 0, 0, 0, 0, 0, 0, 0,\n",
       "       1, 0, 3, 3, 3, 3, 3, 3, 3, 3, 0, 1, 1, 1, 0, 1, 1, 0, 0, 0, 0, 1,\n",
       "       1, 1, 1, 1, 1, 0, 0, 0, 1, 0, 1, 1, 1, 1, 1, 1, 0, 1, 1, 0, 1, 1,\n",
       "       1, 1, 1, 1, 0, 0, 1, 1, 1, 1, 1, 1, 1, 1, 1, 0, 0, 1, 1, 1, 0, 1,\n",
       "       1, 1, 0, 1, 1, 1, 0, 0, 1, 1, 0, 0, 0, 0, 0, 3, 3, 0, 1, 1, 0, 0,\n",
       "       0, 0, 0, 1, 0, 0, 0, 1, 1, 0, 0, 0, 1, 1, 1, 1, 1, 1, 1, 1, 1, 0,\n",
       "       1, 0, 1, 1, 0, 1, 1, 1, 1, 1, 0, 0, 1, 0, 0, 1, 1, 0, 0, 1, 1, 1,\n",
       "       1, 0, 1, 0, 0, 0, 0, 0, 0, 1, 0, 1, 1, 1, 1, 1, 1, 1, 1, 1, 0, 0,\n",
       "       0, 0, 0, 0, 0, 3, 2, 2, 2, 2, 2, 2, 2, 2, 2, 2, 2, 2, 2, 2, 2, 2,\n",
       "       2, 2, 2, 2, 2, 2, 2, 2, 2, 2, 2, 2, 2, 2, 2, 2, 2, 2, 2, 2, 2, 2,\n",
       "       2, 2, 2, 2, 2, 2, 2, 2, 2, 2, 2, 2, 2, 2, 2, 2, 2, 2, 2, 2, 2, 2,\n",
       "       2, 2, 2, 2], dtype=int64)"
      ]
     },
     "execution_count": 82,
     "metadata": {},
     "output_type": "execute_result"
    }
   ],
   "source": [
    "#Modelo de Markov\n",
    "model = GaussianHMM(n_components=4, covariance_type=\"diag\", n_iter=2000).fit(X)\n",
    "# Secuencia optima de estados\n",
    "y_pred_markov = model.predict(X)\n",
    "y_pred_markov"
   ]
  },
  {
   "cell_type": "markdown",
   "id": "71c3adfb",
   "metadata": {},
   "source": [
    "# SE EVALUA EL MODELO"
   ]
  },
  {
   "cell_type": "code",
   "execution_count": 83,
   "id": "b0bf689f",
   "metadata": {},
   "outputs": [],
   "source": [
    "#ILibreria necesaria para obtener el accuracy del modelo\n",
    "from sklearn.metrics import accuracy_score\n",
    "#ILibreria para obtener metricas y matriz de confusion \n",
    "from sklearn.metrics import confusion_matrix, plot_confusion_matrix\n",
    "#Libreria para graficos\n",
    "import matplotlib.pyplot as plt\n",
    "#Obtengo el acuraccy del modelo\n",
    "acc_score_markov = accuracy_score(y, y_pred_markov)"
   ]
  },
  {
   "cell_type": "code",
   "execution_count": 84,
   "id": "f2035788",
   "metadata": {},
   "outputs": [
    {
     "name": "stdout",
     "output_type": "stream",
     "text": [
      "0.2132701421800948\n"
     ]
    }
   ],
   "source": [
    "# Se muestra el accuracy\n",
    "print(acc_score_markov)"
   ]
  },
  {
   "cell_type": "code",
   "execution_count": 85,
   "id": "cceee3d5",
   "metadata": {},
   "outputs": [
    {
     "name": "stdout",
     "output_type": "stream",
     "text": [
      "[[22 65  0  2]\n",
      " [43 68 64  7]\n",
      " [61 86  0  4]\n",
      " [ 0  0  0  0]]\n"
     ]
    }
   ],
   "source": [
    "#Matriz de confusion para el modelo markov\n",
    "si = confusion_matrix(y, y_pred_markov)\n",
    "print(si)"
   ]
  },
  {
   "cell_type": "code",
   "execution_count": 86,
   "id": "5df06b12",
   "metadata": {},
   "outputs": [],
   "source": [
    "#Libreria para metricas\n",
    "from sklearn.metrics import classification_report"
   ]
  },
  {
   "cell_type": "code",
   "execution_count": 87,
   "id": "c080d876",
   "metadata": {},
   "outputs": [
    {
     "name": "stdout",
     "output_type": "stream",
     "text": [
      "              precision    recall  f1-score   support\n",
      "\n",
      "           0       0.17      0.25      0.20        89\n",
      "           1       0.31      0.37      0.34       182\n",
      "           2       0.00      0.00      0.00       151\n",
      "           3       0.00      0.00      0.00         0\n",
      "\n",
      "    accuracy                           0.21       422\n",
      "   macro avg       0.12      0.16      0.14       422\n",
      "weighted avg       0.17      0.21      0.19       422\n",
      "\n"
     ]
    },
    {
     "name": "stderr",
     "output_type": "stream",
     "text": [
      "C:\\Users\\chave\\anaconda3\\lib\\site-packages\\sklearn\\metrics\\_classification.py:1318: UndefinedMetricWarning: Recall and F-score are ill-defined and being set to 0.0 in labels with no true samples. Use `zero_division` parameter to control this behavior.\n",
      "  _warn_prf(average, modifier, msg_start, len(result))\n",
      "C:\\Users\\chave\\anaconda3\\lib\\site-packages\\sklearn\\metrics\\_classification.py:1318: UndefinedMetricWarning: Recall and F-score are ill-defined and being set to 0.0 in labels with no true samples. Use `zero_division` parameter to control this behavior.\n",
      "  _warn_prf(average, modifier, msg_start, len(result))\n",
      "C:\\Users\\chave\\anaconda3\\lib\\site-packages\\sklearn\\metrics\\_classification.py:1318: UndefinedMetricWarning: Recall and F-score are ill-defined and being set to 0.0 in labels with no true samples. Use `zero_division` parameter to control this behavior.\n",
      "  _warn_prf(average, modifier, msg_start, len(result))\n"
     ]
    }
   ],
   "source": [
    "#Se imprime las matricas\n",
    "print(classification_report(y, y_pred_markov))"
   ]
  },
  {
   "cell_type": "code",
   "execution_count": 88,
   "id": "56e84604",
   "metadata": {},
   "outputs": [
    {
     "name": "stderr",
     "output_type": "stream",
     "text": [
      "C:\\Users\\chave\\anaconda3\\lib\\site-packages\\sklearn\\metrics\\_classification.py:1318: UndefinedMetricWarning: Recall and F-score are ill-defined and being set to 0.0 in labels with no true samples. Use `zero_division` parameter to control this behavior.\n",
      "  _warn_prf(average, modifier, msg_start, len(result))\n"
     ]
    }
   ],
   "source": [
    "precision_markov,recall_markov,fscore_markov,support_markov=score(y,y_pred_markov,average='macro')"
   ]
  },
  {
   "cell_type": "markdown",
   "id": "8e3d9fe8",
   "metadata": {},
   "source": [
    "# COMPARATIVA DE LOS TRES MODELOS NAIVE , MARKOV Y PROBABILISTICO\n"
   ]
  },
  {
   "cell_type": "code",
   "execution_count": 89,
   "id": "ee51464f",
   "metadata": {},
   "outputs": [],
   "source": [
    "#Se importa la libreria que permitiran obtener el grafico\n",
    "import numpy as np\n",
    "import matplotlib.pyplot as plt\n",
    "import matplotlib.colors as mcolors"
   ]
  },
  {
   "cell_type": "code",
   "execution_count": 90,
   "id": "57459932",
   "metadata": {},
   "outputs": [
    {
     "data": {
      "image/png": "[encoded data removed]",
      "text/plain": [
       "<Figure size 432x288 with 1 Axes>"
      ]
     },
     "metadata": {
      "needs_background": "light"
     },
     "output_type": "display_data"
    }
   ],
   "source": [
    "#Se define los modelos que se van a comparar\n",
    "eje_x = ['Naive-Bayes', 'Hidden Markov', 'Fuzzy Logic Probabilistic']\n",
    " \n",
    "## Declaramos valores para el eje y\n",
    "eje_y = [acc_score_naive,acc_score_markov,acc_score_fuzzy]\n",
    "# Creamos Gráfica\n",
    "plt.bar(eje_x, eje_y)\n",
    "## Eje y\n",
    "plt.ylabel('ACCURACY')\n",
    "## Eje x\n",
    "plt.xlabel('MODELOS REVISADOS')\n",
    "## Título\n",
    "plt.title('COMPARATIVA DE RESULTADOS')\n",
    "## Se muestra la Gráfica\n",
    "plt.show()"
   ]
  },
  {
   "cell_type": "markdown",
   "id": "7f3691f0",
   "metadata": {},
   "source": [
    "# Gracias :)"
   ]
  },
  {
   "cell_type": "code",
   "execution_count": null,
   "id": "384b76da",
   "metadata": {},
   "outputs": [],
   "source": []
  }
 ],
 "metadata": {
  "kernelspec": {
   "display_name": "Python 3 (ipykernel)",
   "language": "python",
   "name": "python3"
  },
  "language_info": {
   "codemirror_mode": {
    "name": "ipython",
    "version": 3
   },
   "file_extension": ".py",
   "mimetype": "text/x-python",
   "name": "python",
   "nbconvert_exporter": "python",
   "pygments_lexer": "ipython3",
   "version": "3.9.12"
  }
 },
 "nbformat": 4,
 "nbformat_minor": 5
}
